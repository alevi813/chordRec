{
 "cells": [
  {
   "cell_type": "code",
   "execution_count": 1,
   "metadata": {},
   "outputs": [],
   "source": [
    "import pandas as pd\n",
    "from os import listdir\n",
    "from os.path import isfile, join\n",
    "\n",
    "import sqlite3"
   ]
  },
  {
   "cell_type": "code",
   "execution_count": 2,
   "metadata": {},
   "outputs": [],
   "source": [
    "conn = sqlite3.connect('/Users/aaronlevi/Documents/sql_db/chords_list.db')\n",
    "cur = conn.cursor()"
   ]
  },
  {
   "cell_type": "code",
   "execution_count": 3,
   "metadata": {},
   "outputs": [
    {
     "data": {
      "text/html": [
       "<div>\n",
       "<style scoped>\n",
       "    .dataframe tbody tr th:only-of-type {\n",
       "        vertical-align: middle;\n",
       "    }\n",
       "\n",
       "    .dataframe tbody tr th {\n",
       "        vertical-align: top;\n",
       "    }\n",
       "\n",
       "    .dataframe thead th {\n",
       "        text-align: right;\n",
       "    }\n",
       "</style>\n",
       "<table border=\"1\" class=\"dataframe\">\n",
       "  <thead>\n",
       "    <tr style=\"text-align: right;\">\n",
       "      <th></th>\n",
       "      <th>Song</th>\n",
       "      <th>Artist</th>\n",
       "      <th>Chords</th>\n",
       "      <th>Label</th>\n",
       "    </tr>\n",
       "  </thead>\n",
       "  <tbody>\n",
       "  </tbody>\n",
       "</table>\n",
       "</div>"
      ],
      "text/plain": [
       "Empty DataFrame\n",
       "Columns: [Song, Artist, Chords, Label]\n",
       "Index: []"
      ]
     },
     "execution_count": 3,
     "metadata": {},
     "output_type": "execute_result"
    }
   ],
   "source": [
    "# dfAllSongs = pd.read_csv('playlist_df.csv')\n",
    "# dfAllSongs.head()\n",
    "\n",
    "dfAllSongs = pd.DataFrame(columns = ['Song', 'Artist', 'Chords', 'Label']) \n",
    "dfAllSongs "
   ]
  },
  {
   "cell_type": "code",
   "execution_count": 5,
   "metadata": {},
   "outputs": [],
   "source": [
    "chordPath  = '/Users/aaronlevi/Documents/Insight2020/chordRec/ug_chords/'\n",
    "chordFiles = [f for f in listdir(chordPath) if isfile(join(chordPath, f))]\n",
    "\n",
    "songs_db = pd.read_sql_query(\"SELECT Song FROM basic_info\", conn)\n",
    "# SELECT count(*) FROM foos WHERE bar = 'baz'\n",
    "\n",
    "# for every song in the directory...\n",
    "for iSong in range(0, len(chordFiles)):\n",
    "    dfThisSong = pd.read_csv(chordPath+chordFiles[iSong])\n",
    "    \n",
    "    # ...check if it's already in the db, and add it to the db if not\n",
    "    if sum(songs_db['Song'].str.contains( str(dfThisSong['Song'][0]) )) is 0:\n",
    "        dfAllSongs = pd.concat([dfAllSongs, dfThisSong], axis=0)"
   ]
  },
  {
   "cell_type": "code",
   "execution_count": 6,
   "metadata": {},
   "outputs": [
    {
     "data": {
      "text/html": [
       "<div>\n",
       "<style scoped>\n",
       "    .dataframe tbody tr th:only-of-type {\n",
       "        vertical-align: middle;\n",
       "    }\n",
       "\n",
       "    .dataframe tbody tr th {\n",
       "        vertical-align: top;\n",
       "    }\n",
       "\n",
       "    .dataframe thead th {\n",
       "        text-align: right;\n",
       "    }\n",
       "</style>\n",
       "<table border=\"1\" class=\"dataframe\">\n",
       "  <thead>\n",
       "    <tr style=\"text-align: right;\">\n",
       "      <th></th>\n",
       "      <th>Song</th>\n",
       "      <th>Artist</th>\n",
       "      <th>Chords</th>\n",
       "      <th>Label</th>\n",
       "    </tr>\n",
       "  </thead>\n",
       "  <tbody>\n",
       "    <tr>\n",
       "      <th>0</th>\n",
       "      <td>better-days</td>\n",
       "      <td>strung-out</td>\n",
       "      <td>C/E,F/A,Bb,Gm,F,C,Am,Dm</td>\n",
       "      <td>advanced</td>\n",
       "    </tr>\n",
       "    <tr>\n",
       "      <th>1</th>\n",
       "      <td>mary-had-a-little-lamb</td>\n",
       "      <td>paul-mccartney</td>\n",
       "      <td>Am7,Bb,F,E7,Am,Gm7,G#dim,F7,D7,C#,A,E,C7,G#,Eb...</td>\n",
       "      <td>advanced</td>\n",
       "    </tr>\n",
       "    <tr>\n",
       "      <th>2</th>\n",
       "      <td>rhiannon</td>\n",
       "      <td>fleetwood-mac</td>\n",
       "      <td>F,C,Am</td>\n",
       "      <td>novice</td>\n",
       "    </tr>\n",
       "    <tr>\n",
       "      <th>3</th>\n",
       "      <td>let-it-be-me</td>\n",
       "      <td>the-everly-brothers</td>\n",
       "      <td>F#m,A,E,C,Am,Bm,D,Em,C#m,G,B7</td>\n",
       "      <td>intermediate</td>\n",
       "    </tr>\n",
       "    <tr>\n",
       "      <th>4</th>\n",
       "      <td>grace-kelly</td>\n",
       "      <td>mika</td>\n",
       "      <td>Am7,D/F#,Dsus4,C,D7,Cm7,F,A7/C#,D,Em,Dm7,D7sus...</td>\n",
       "      <td>intermediate</td>\n",
       "    </tr>\n",
       "  </tbody>\n",
       "</table>\n",
       "</div>"
      ],
      "text/plain": [
       "                     Song               Artist  \\\n",
       "0             better-days           strung-out   \n",
       "1  mary-had-a-little-lamb       paul-mccartney   \n",
       "2                rhiannon        fleetwood-mac   \n",
       "3            let-it-be-me  the-everly-brothers   \n",
       "4             grace-kelly                 mika   \n",
       "\n",
       "                                              Chords         Label  \n",
       "0                            C/E,F/A,Bb,Gm,F,C,Am,Dm      advanced  \n",
       "1  Am7,Bb,F,E7,Am,Gm7,G#dim,F7,D7,C#,A,E,C7,G#,Eb...      advanced  \n",
       "2                                             F,C,Am        novice  \n",
       "3                      F#m,A,E,C,Am,Bm,D,Em,C#m,G,B7  intermediate  \n",
       "4  Am7,D/F#,Dsus4,C,D7,Cm7,F,A7/C#,D,Em,Dm7,D7sus...  intermediate  "
      ]
     },
     "execution_count": 6,
     "metadata": {},
     "output_type": "execute_result"
    }
   ],
   "source": [
    "dfAllSongs = dfAllSongs.reset_index(drop=True)\n",
    "dfAllSongs.head()"
   ]
  },
  {
   "cell_type": "code",
   "execution_count": 9,
   "metadata": {},
   "outputs": [],
   "source": [
    "# add these songs to the sql db\n",
    "dfAllSongs.to_sql('basic_info', con=conn, if_exists='append')"
   ]
  },
  {
   "cell_type": "code",
   "execution_count": 8,
   "metadata": {},
   "outputs": [],
   "source": [
    "# 1331 songs in batch 1, 1099 new ones in batch 2\n",
    "# print(len(dfAllSongs))\n",
    "\n",
    "# new_songs_db = pd.read_sql_query(\"SELECT Song FROM basic_info\", conn)\n",
    "# new_songs_db['Song']"
   ]
  },
  {
   "cell_type": "code",
   "execution_count": 13,
   "metadata": {},
   "outputs": [],
   "source": [
    "# now do the same for the features table in the db\n",
    "# start by getting spotify credentials\n",
    "import spotipy\n",
    "from spotipy.oauth2 import SpotifyClientCredentials\n",
    "client_credentials_manager = SpotifyClientCredentials(client_id= '6426e18767ac42d78a9c08f41cacba65',\n",
    "                                                     client_secret= '4a2cdab50e1c4ecd9fc62cae20664e29')\n",
    "sp = spotipy.Spotify(client_credentials_manager=client_credentials_manager)"
   ]
  },
  {
   "cell_type": "code",
   "execution_count": 15,
   "metadata": {},
   "outputs": [],
   "source": [
    "# and set up the \"standard chord list\" for comparison later\n",
    "# put together a list of various standard major & minor chords\n",
    "sl1 = ['A', 'Bb', 'B', 'C', 'C#', 'Db', 'D', 'Eb', 'E', 'F', 'F#', 'G', 'G#', 'Ab' ]\n",
    "sl2 = [s + 'maj' for s in sl1]\n",
    "sl3 = [s + 'm' for s in sl1]\n",
    "sl4 = [s + 'min' for s in sl1]\n",
    "\n",
    "standardList = sl1+sl2+sl3+sl4\n"
   ]
  },
  {
   "cell_type": "code",
   "execution_count": 26,
   "metadata": {},
   "outputs": [],
   "source": [
    "# preallocate \n",
    "nUniqueChords   = []\n",
    "nHardChords     = []\n",
    "chordDensity    = []\n",
    "difficultyLabel = []\n",
    "\n",
    "spotFeatures = {}\n",
    "\n",
    "# spotFeatures['key'] = []\n",
    "spotFeatures['tempo'] = []\n",
    "# spotFeatures['duration_ms'] = []\n",
    "spotFeatures['duration_m'] = []\n",
    "spotFeatures['time_signature'] = []\n",
    "spotFeatures['energy'] = []\n",
    "\n",
    "# loop throiugh dfAllSongs and get spotify info\n",
    "# this is only new songs\n",
    "for iSong in range(0, len(dfAllSongs)):\n",
    "    songName   = str(dfAllSongs['Song'][iSong]).replace('-', ' ').lower()\n",
    "    artistName = str(dfAllSongs['Artist'][iSong]).replace('-', ' ').lower()\n",
    "\n",
    "    # search spotify api\n",
    "    result = sp.search(songName, limit=10) \n",
    "    nItems = len(result['tracks']['items'])\n",
    "\n",
    "    # if our spotify search returns anything, extract desired vars\n",
    "    if nItems>0:\n",
    "        # match artist info, and get URI    \n",
    "        foundMatch = [] # set up a counter...\n",
    "        for iArtist in range(0, nItems):    \n",
    "            if result['tracks']['items'][iArtist]['artists'][0]['name'].lower == artistName:\n",
    "                songURI = result['tracks']['items'][iArtist]['uri']\n",
    "                foundMatch.append(True)\n",
    "            else:\n",
    "                foundMatch.append(False) #... that keeps track of if we found a matching artist\n",
    "\n",
    "        # if we didn't, let's assume the first artist was the correct one, and this was a \n",
    "        # problem with spelling/special chars/case sensitivity...\n",
    "        if sum(foundMatch)==0:\n",
    "            songURI = result['tracks']['items'][0]['uri']\n",
    "\n",
    "        # pull audio features for a songURI\n",
    "        features = sp.audio_features(songURI)\n",
    "\n",
    "    #     spotFeatures['key'].append(features[0]['key'])\n",
    "        spotFeatures['tempo'].append(features[0]['tempo'])\n",
    "        spotFeatures['duration_m'].append((features[0]['duration_ms']/1000)/60)\n",
    "        spotFeatures['time_signature'].append(features[0]['time_signature'])\n",
    "        spotFeatures['energy'].append(features[0]['energy'])\n",
    "\n",
    "    # if not, fill with NaNs\n",
    "    else:\n",
    "        spotFeatures['tempo'].append(float('nan'))\n",
    "        spotFeatures['duration_m'].append(float('nan'))\n",
    "        spotFeatures['time_signature'].append(float('nan'))\n",
    "        spotFeatures['energy'].append(float('nan'))\n",
    "        \n",
    "    # get the chord information\n",
    "    uniqChords = dfAllSongs['Chords'][iSong].split(',')[1:]\n",
    "    nUniqueChords.append(len(uniqChords))\n",
    "    chordDensity.append(nUniqueChords[iSong]/spotFeatures['duration_m'][iSong])\n",
    "\n",
    "    tmpHard = []\n",
    "    for kCh in range(0, nUniqueChords[iSong]):\n",
    "        tmpHard.append(uniqChords[kCh] not in standardList)\n",
    "\n",
    "    nHardChords.append(sum(tmpHard))\n"
   ]
  },
  {
   "cell_type": "code",
   "execution_count": 28,
   "metadata": {},
   "outputs": [
    {
     "name": "stdout",
     "output_type": "stream",
     "text": [
      "1099\n"
     ]
    },
    {
     "data": {
      "text/html": [
       "<div>\n",
       "<style scoped>\n",
       "    .dataframe tbody tr th:only-of-type {\n",
       "        vertical-align: middle;\n",
       "    }\n",
       "\n",
       "    .dataframe tbody tr th {\n",
       "        vertical-align: top;\n",
       "    }\n",
       "\n",
       "    .dataframe thead th {\n",
       "        text-align: right;\n",
       "    }\n",
       "</style>\n",
       "<table border=\"1\" class=\"dataframe\">\n",
       "  <thead>\n",
       "    <tr style=\"text-align: right;\">\n",
       "      <th></th>\n",
       "      <th>tempo</th>\n",
       "      <th>duration_m</th>\n",
       "      <th>time_signature</th>\n",
       "      <th>energy</th>\n",
       "      <th>n_unique_chords</th>\n",
       "      <th>n_difficult_chords</th>\n",
       "      <th>chord_per_min</th>\n",
       "    </tr>\n",
       "  </thead>\n",
       "  <tbody>\n",
       "    <tr>\n",
       "      <th>0</th>\n",
       "      <td>89.132</td>\n",
       "      <td>2.408833</td>\n",
       "      <td>4.0</td>\n",
       "      <td>0.7260</td>\n",
       "      <td>7</td>\n",
       "      <td>1</td>\n",
       "      <td>2.905971</td>\n",
       "    </tr>\n",
       "    <tr>\n",
       "      <th>1</th>\n",
       "      <td>76.364</td>\n",
       "      <td>1.981967</td>\n",
       "      <td>4.0</td>\n",
       "      <td>0.0439</td>\n",
       "      <td>20</td>\n",
       "      <td>10</td>\n",
       "      <td>10.090987</td>\n",
       "    </tr>\n",
       "    <tr>\n",
       "      <th>2</th>\n",
       "      <td>129.012</td>\n",
       "      <td>4.212883</td>\n",
       "      <td>4.0</td>\n",
       "      <td>0.4900</td>\n",
       "      <td>2</td>\n",
       "      <td>0</td>\n",
       "      <td>0.474734</td>\n",
       "    </tr>\n",
       "    <tr>\n",
       "      <th>3</th>\n",
       "      <td>107.674</td>\n",
       "      <td>4.670450</td>\n",
       "      <td>3.0</td>\n",
       "      <td>0.2830</td>\n",
       "      <td>10</td>\n",
       "      <td>1</td>\n",
       "      <td>2.141121</td>\n",
       "    </tr>\n",
       "    <tr>\n",
       "      <th>4</th>\n",
       "      <td>122.361</td>\n",
       "      <td>3.128883</td>\n",
       "      <td>4.0</td>\n",
       "      <td>0.8200</td>\n",
       "      <td>13</td>\n",
       "      <td>8</td>\n",
       "      <td>4.154837</td>\n",
       "    </tr>\n",
       "  </tbody>\n",
       "</table>\n",
       "</div>"
      ],
      "text/plain": [
       "     tempo  duration_m  time_signature  energy  n_unique_chords  \\\n",
       "0   89.132    2.408833             4.0  0.7260                7   \n",
       "1   76.364    1.981967             4.0  0.0439               20   \n",
       "2  129.012    4.212883             4.0  0.4900                2   \n",
       "3  107.674    4.670450             3.0  0.2830               10   \n",
       "4  122.361    3.128883             4.0  0.8200               13   \n",
       "\n",
       "   n_difficult_chords  chord_per_min  \n",
       "0                   1       2.905971  \n",
       "1                  10      10.090987  \n",
       "2                   0       0.474734  \n",
       "3                   1       2.141121  \n",
       "4                   8       4.154837  "
      ]
     },
     "execution_count": 28,
     "metadata": {},
     "output_type": "execute_result"
    }
   ],
   "source": [
    "# combine everything into one DF called allFeatures\n",
    "spotFeatures = pd.DataFrame.from_dict(spotFeatures)\n",
    "# spotFeatures.head()\n",
    "allFeatures = spotFeatures\n",
    "\n",
    "allFeatures['n_unique_chords']     = nUniqueChords\n",
    "allFeatures['n_difficult_chords']  = nHardChords\n",
    "allFeatures['chord_per_min']       = chordDensity\n",
    "\n",
    "print(len(allFeatures))\n",
    "allFeatures.head()"
   ]
  },
  {
   "cell_type": "code",
   "execution_count": 29,
   "metadata": {},
   "outputs": [],
   "source": [
    "# append to the sql db\n",
    "allFeatures.to_sql('features', con=conn, if_exists='append')\n"
   ]
  },
  {
   "cell_type": "code",
   "execution_count": 30,
   "metadata": {},
   "outputs": [],
   "source": [
    "# cur.close()\n",
    "# conn.close()"
   ]
  },
  {
   "cell_type": "code",
   "execution_count": 9,
   "metadata": {},
   "outputs": [],
   "source": [
    "# load the model\n",
    "import pickle\n",
    "# load the model from disk\n",
    "filename = 'lr_adv_model_0930.sav'\n",
    "lr_adv = pickle.load(open(filename, 'rb'))"
   ]
  },
  {
   "cell_type": "code",
   "execution_count": 38,
   "metadata": {},
   "outputs": [],
   "source": [
    "allFeat = pd.read_sql_query(\"SELECT * FROM features\", conn) #get from sql\n",
    "# allFeat.dropna(axis=0, how='any', inplace=True) # remove nans\n",
    "allFeat.reset_index(drop=True, inplace=True) #reset index\n",
    "allFeat.drop('index', axis=1, inplace=True) # drop the extra column sql added\n",
    "\n",
    "\n",
    "from sklearn.preprocessing import StandardScaler\n",
    "scaler = StandardScaler()\n",
    "\n",
    "scaler.fit(allFeat)\n",
    "feat_scale = scaler.transform(allFeat)"
   ]
  },
  {
   "cell_type": "code",
   "execution_count": 39,
   "metadata": {},
   "outputs": [],
   "source": [
    "predictions = lr_adv.predict(feat_scale)"
   ]
  },
  {
   "cell_type": "code",
   "execution_count": 40,
   "metadata": {},
   "outputs": [
    {
     "data": {
      "text/plain": [
       "array([0, 0, 0, ..., 0, 1, 0], dtype=uint8)"
      ]
     },
     "execution_count": 40,
     "metadata": {},
     "output_type": "execute_result"
    }
   ],
   "source": [
    "predictions"
   ]
  },
  {
   "cell_type": "code",
   "execution_count": 41,
   "metadata": {},
   "outputs": [],
   "source": [
    "label = pd.read_sql_query(\"SELECT Label FROM basic_info\", conn)\n",
    "label['model_isAdv']= predictions\n",
    "label.rename(columns={'Label': 'ug_label'})"
   ]
  },
  {
   "cell_type": "code",
   "execution_count": 46,
   "metadata": {},
   "outputs": [],
   "source": [
    "label.to_sql('label', con=conn, if_exists='append')"
   ]
  },
  {
   "cell_type": "code",
   "execution_count": null,
   "metadata": {},
   "outputs": [],
   "source": []
  }
 ],
 "metadata": {
  "kernelspec": {
   "display_name": "Python 3",
   "language": "python",
   "name": "python3"
  },
  "language_info": {
   "codemirror_mode": {
    "name": "ipython",
    "version": 3
   },
   "file_extension": ".py",
   "mimetype": "text/x-python",
   "name": "python",
   "nbconvert_exporter": "python",
   "pygments_lexer": "ipython3",
   "version": "3.7.3"
  }
 },
 "nbformat": 4,
 "nbformat_minor": 2
}
