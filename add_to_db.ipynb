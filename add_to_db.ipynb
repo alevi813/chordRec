{
 "cells": [
  {
   "cell_type": "code",
   "execution_count": 1,
   "metadata": {},
   "outputs": [],
   "source": [
    "import numpy as np\n",
    "import pandas as pd\n",
    "from os import listdir\n",
    "from os.path import isfile, join\n",
    "\n",
    "import sqlite3\n",
    "import pickle\n",
    "\n",
    "from sklearn.preprocessing import StandardScaler\n"
   ]
  },
  {
   "cell_type": "code",
   "execution_count": 2,
   "metadata": {},
   "outputs": [],
   "source": [
    "# conn = sqlite3.connect('/Users/aaronlevi/Documents/sql_db/chords_list.db')\n",
    "conn = sqlite3.connect('/Users/aaronlevi/Documents/sql_db/pick-a-tune.db')\n",
    "cur = conn.cursor()"
   ]
  },
  {
   "cell_type": "code",
   "execution_count": 3,
   "metadata": {},
   "outputs": [
    {
     "data": {
      "text/html": [
       "<div>\n",
       "<style scoped>\n",
       "    .dataframe tbody tr th:only-of-type {\n",
       "        vertical-align: middle;\n",
       "    }\n",
       "\n",
       "    .dataframe tbody tr th {\n",
       "        vertical-align: top;\n",
       "    }\n",
       "\n",
       "    .dataframe thead th {\n",
       "        text-align: right;\n",
       "    }\n",
       "</style>\n",
       "<table border=\"1\" class=\"dataframe\">\n",
       "  <thead>\n",
       "    <tr style=\"text-align: right;\">\n",
       "      <th></th>\n",
       "      <th>Song</th>\n",
       "      <th>Artist</th>\n",
       "      <th>All Chords</th>\n",
       "      <th>Chords</th>\n",
       "      <th>Label</th>\n",
       "      <th>Link</th>\n",
       "    </tr>\n",
       "  </thead>\n",
       "  <tbody>\n",
       "  </tbody>\n",
       "</table>\n",
       "</div>"
      ],
      "text/plain": [
       "Empty DataFrame\n",
       "Columns: [Song, Artist, All Chords, Chords, Label, Link]\n",
       "Index: []"
      ]
     },
     "execution_count": 3,
     "metadata": {},
     "output_type": "execute_result"
    }
   ],
   "source": [
    "# dfAllSongs = pd.read_csv('playlist_df.csv')\n",
    "# dfAllSongs.head()\n",
    "\n",
    "dfAllSongs = pd.DataFrame(columns = ['Song', 'Artist', 'All Chords', 'Chords', 'Label', 'Link']) \n",
    "dfAllSongs "
   ]
  },
  {
   "cell_type": "code",
   "execution_count": 4,
   "metadata": {},
   "outputs": [],
   "source": [
    "chordPath  = '/Users/aaronlevi/Documents/Insight2020/chordRec/ug_chords/'\n",
    "chordFiles = [f for f in listdir(chordPath) if isfile(join(chordPath, f))]\n",
    "\n",
    "# songs_db = pd.read_sql_query(\"SELECT Song FROM basic_info\", conn)\n",
    "# SELECT count(*) FROM foos WHERE bar = 'baz'\n",
    "\n",
    "# for every song in the directory...\n",
    "for iSong in range(0, len(chordFiles)):\n",
    "    dfThisSong = pd.read_csv(chordPath+chordFiles[iSong])\n",
    "    \n",
    "    # ...check if it's already in the db, and add it to the db if not\n",
    "#     if sum(songs_db['Song'].str.contains( str(dfThisSong['Song'][0]) )) is 0:\n",
    "    dfAllSongs = pd.concat([dfAllSongs, dfThisSong], axis=0)"
   ]
  },
  {
   "cell_type": "code",
   "execution_count": 5,
   "metadata": {},
   "outputs": [
    {
     "name": "stdout",
     "output_type": "stream",
     "text": [
      "2515\n"
     ]
    },
    {
     "data": {
      "text/html": [
       "<div>\n",
       "<style scoped>\n",
       "    .dataframe tbody tr th:only-of-type {\n",
       "        vertical-align: middle;\n",
       "    }\n",
       "\n",
       "    .dataframe tbody tr th {\n",
       "        vertical-align: top;\n",
       "    }\n",
       "\n",
       "    .dataframe thead th {\n",
       "        text-align: right;\n",
       "    }\n",
       "</style>\n",
       "<table border=\"1\" class=\"dataframe\">\n",
       "  <thead>\n",
       "    <tr style=\"text-align: right;\">\n",
       "      <th></th>\n",
       "      <th>Song</th>\n",
       "      <th>Artist</th>\n",
       "      <th>All Chords</th>\n",
       "      <th>Chords</th>\n",
       "      <th>Label</th>\n",
       "      <th>Link</th>\n",
       "    </tr>\n",
       "  </thead>\n",
       "  <tbody>\n",
       "    <tr>\n",
       "      <th>0</th>\n",
       "      <td>better-days</td>\n",
       "      <td>strung-out</td>\n",
       "      <td>['F', 'C', 'Dm', 'Bb', 'C/E', 'Gm', 'F/A', 'Am...</td>\n",
       "      <td>Gm,C,Am,Dm,F/A,Bb,C/E,F</td>\n",
       "      <td>advanced</td>\n",
       "      <td>https://tabs.ultimate-guitar.com/tab/strung-ou...</td>\n",
       "    </tr>\n",
       "    <tr>\n",
       "      <th>1</th>\n",
       "      <td>mary-had-a-little-lamb</td>\n",
       "      <td>paul-mccartney</td>\n",
       "      <td>['E', 'E7', 'A', 'Abm7', 'F#m7', 'E', 'A', 'Ab...</td>\n",
       "      <td>C,D7,Abm,Bb,C7,F7,Abm7,B7,G#dim,Am7,Am,Eb,G#,F...</td>\n",
       "      <td>advanced</td>\n",
       "      <td>https://tabs.ultimate-guitar.com/tab/paul-mcca...</td>\n",
       "    </tr>\n",
       "    <tr>\n",
       "      <th>2</th>\n",
       "      <td>mad-world</td>\n",
       "      <td>gary-jules</td>\n",
       "      <td>['Em', 'A', 'Em', 'A', 'Em', 'G', 'D', 'A', 'E...</td>\n",
       "      <td>Em,A,D,G</td>\n",
       "      <td>novice</td>\n",
       "      <td>https://tabs.ultimate-guitar.com/tab/gary-jule...</td>\n",
       "    </tr>\n",
       "    <tr>\n",
       "      <th>3</th>\n",
       "      <td>magic-ways</td>\n",
       "      <td>tatsuro-yamashita</td>\n",
       "      <td>['DbM7', 'Ebm9', 'DbM7', 'Ebm9', 'GbM7/Ab', 'D...</td>\n",
       "      <td>DbM7,Fm7,B13,DbM9,Bbm7/Eb,GbM7,Db9,Ebm9,GbM7/A...</td>\n",
       "      <td>advanced</td>\n",
       "      <td>https://tabs.ultimate-guitar.com/tab/tatsuro-y...</td>\n",
       "    </tr>\n",
       "    <tr>\n",
       "      <th>4</th>\n",
       "      <td>rhiannon</td>\n",
       "      <td>fleetwood-mac</td>\n",
       "      <td>['Am', 'F', 'Am', 'F', 'Am', 'F', 'C', 'F', 'C...</td>\n",
       "      <td>F,C,Am</td>\n",
       "      <td>novice</td>\n",
       "      <td>https://tabs.ultimate-guitar.com/tab/fleetwood...</td>\n",
       "    </tr>\n",
       "  </tbody>\n",
       "</table>\n",
       "</div>"
      ],
      "text/plain": [
       "                     Song             Artist  \\\n",
       "0             better-days         strung-out   \n",
       "1  mary-had-a-little-lamb     paul-mccartney   \n",
       "2               mad-world         gary-jules   \n",
       "3              magic-ways  tatsuro-yamashita   \n",
       "4                rhiannon      fleetwood-mac   \n",
       "\n",
       "                                          All Chords  \\\n",
       "0  ['F', 'C', 'Dm', 'Bb', 'C/E', 'Gm', 'F/A', 'Am...   \n",
       "1  ['E', 'E7', 'A', 'Abm7', 'F#m7', 'E', 'A', 'Ab...   \n",
       "2  ['Em', 'A', 'Em', 'A', 'Em', 'G', 'D', 'A', 'E...   \n",
       "3  ['DbM7', 'Ebm9', 'DbM7', 'Ebm9', 'GbM7/Ab', 'D...   \n",
       "4  ['Am', 'F', 'Am', 'F', 'Am', 'F', 'C', 'F', 'C...   \n",
       "\n",
       "                                              Chords     Label  \\\n",
       "0                            Gm,C,Am,Dm,F/A,Bb,C/E,F  advanced   \n",
       "1  C,D7,Abm,Bb,C7,F7,Abm7,B7,G#dim,Am7,Am,Eb,G#,F...  advanced   \n",
       "2                                           Em,A,D,G    novice   \n",
       "3  DbM7,Fm7,B13,DbM9,Bbm7/Eb,GbM7,Db9,Ebm9,GbM7/A...  advanced   \n",
       "4                                             F,C,Am    novice   \n",
       "\n",
       "                                                Link  \n",
       "0  https://tabs.ultimate-guitar.com/tab/strung-ou...  \n",
       "1  https://tabs.ultimate-guitar.com/tab/paul-mcca...  \n",
       "2  https://tabs.ultimate-guitar.com/tab/gary-jule...  \n",
       "3  https://tabs.ultimate-guitar.com/tab/tatsuro-y...  \n",
       "4  https://tabs.ultimate-guitar.com/tab/fleetwood...  "
      ]
     },
     "execution_count": 5,
     "metadata": {},
     "output_type": "execute_result"
    }
   ],
   "source": [
    "dfAllSongs = dfAllSongs.reset_index(drop=True)\n",
    "print(len(dfAllSongs))\n",
    "dfAllSongs.head()"
   ]
  },
  {
   "cell_type": "code",
   "execution_count": 7,
   "metadata": {},
   "outputs": [
    {
     "name": "stderr",
     "output_type": "stream",
     "text": [
      "//anaconda3/lib/python3.7/site-packages/pandas/core/generic.py:2531: UserWarning: The spaces in these column names will not be changed. In pandas versions < 0.14, spaces were converted to underscores.\n",
      "  dtype=dtype, method=method)\n"
     ]
    }
   ],
   "source": [
    "# add these songs to the sql db\n",
    "dfAllSongs.to_sql('basic_info', con=conn, if_exists='append')"
   ]
  },
  {
   "cell_type": "code",
   "execution_count": 8,
   "metadata": {},
   "outputs": [],
   "source": [
    "# 1331 songs in batch 1, 1099 new ones in batch 2\n",
    "# print(len(dfAllSongs))\n",
    "\n",
    "# new_songs_db = pd.read_sql_query(\"SELECT Song FROM basic_info\", conn)\n",
    "# new_songs_db['Song']"
   ]
  },
  {
   "cell_type": "code",
   "execution_count": 28,
   "metadata": {},
   "outputs": [],
   "source": [
    "# now do the same for the features table in the db\n",
    "# start by getting spotify credentials\n",
    "import spotipy\n",
    "from spotipy.oauth2 import SpotifyClientCredentials\n",
    "\n",
    "spotifyCred = pd.read_csv('spotifyCred.csv')\n",
    "client_credentials_manager = SpotifyClientCredentials(client_id= spotifyCred['0'][0],\n",
    "                                                     client_secret= spotifyCred['0'][1])\n",
    "sp = spotipy.Spotify(client_credentials_manager=client_credentials_manager)"
   ]
  },
  {
   "cell_type": "code",
   "execution_count": 29,
   "metadata": {},
   "outputs": [],
   "source": [
    "# and set up the \"standard chord list\" for comparison later\n",
    "# put together a list of various standard major & minor chords\n",
    "sl1 = ['A', 'Bb', 'B', 'C', 'C#', 'Db', 'D', 'Eb', 'E', 'F', 'F#', 'G', 'G#', 'Ab' ]\n",
    "sl2 = [s + 'maj' for s in sl1]\n",
    "sl3 = [s + 'm' for s in sl1]\n",
    "sl4 = [s + 'min' for s in sl1]\n",
    "\n",
    "standardList = sl1+sl2+sl3+sl4\n"
   ]
  },
  {
   "cell_type": "code",
   "execution_count": 57,
   "metadata": {},
   "outputs": [],
   "source": [
    "# preallocate \n",
    "nUniqueChords   = []\n",
    "nHardChords     = []\n",
    "chordDensity    = []\n",
    "difficultyLabel = []\n",
    "\n",
    "spotFeatures = {}\n",
    "\n",
    "# spotFeatures['key'] = []\n",
    "spotFeatures['tempo'] = []\n",
    "# spotFeatures['duration_ms'] = []\n",
    "spotFeatures['duration_m'] = []\n",
    "spotFeatures['time_signature'] = []\n",
    "spotFeatures['energy'] = []\n",
    "\n",
    "# loop throiugh dfAllSongs and get spotify info\n",
    "# this is only new songs\n",
    "for iSong in range(0, len(dfAllSongs)):\n",
    "    songName   = str(dfAllSongs['Song'][iSong]).replace('-', ' ').lower()\n",
    "    artistName = str(dfAllSongs['Artist'][iSong]).replace('-', ' ').lower()\n",
    "\n",
    "    # search spotify api\n",
    "    result = sp.search(songName, limit=10) \n",
    "    nItems = len(result['tracks']['items'])\n",
    "\n",
    "    # if our spotify search returns anything, extract desired vars\n",
    "    if nItems>0:\n",
    "        # match artist info, and get URI    \n",
    "        foundMatch = [] # set up a counter...\n",
    "        for iArtist in range(0, nItems):    \n",
    "            if result['tracks']['items'][iArtist]['artists'][0]['name'].lower == artistName:\n",
    "                songURI = result['tracks']['items'][iArtist]['uri']\n",
    "                foundMatch.append(True)\n",
    "            else:\n",
    "                foundMatch.append(False) #... that keeps track of if we found a matching artist\n",
    "\n",
    "        # if we didn't, let's assume the first artist was the correct one, and this was a \n",
    "        # problem with spelling/special chars/case sensitivity...\n",
    "        if sum(foundMatch)==0:\n",
    "            songURI = result['tracks']['items'][0]['uri']\n",
    "\n",
    "        # pull audio features for a songURI\n",
    "        features = sp.audio_features(songURI)\n",
    "\n",
    "    #     spotFeatures['key'].append(features[0]['key'])\n",
    "        spotFeatures['tempo'].append(features[0]['tempo'])\n",
    "        spotFeatures['duration_m'].append((features[0]['duration_ms']/1000)/60)\n",
    "        spotFeatures['time_signature'].append(features[0]['time_signature'])\n",
    "        spotFeatures['energy'].append(features[0]['energy'])\n",
    "\n",
    "    # if not, fill with NaNs\n",
    "    else:\n",
    "        spotFeatures['tempo'].append(float('nan'))\n",
    "        spotFeatures['duration_m'].append(float('nan'))\n",
    "        spotFeatures['time_signature'].append(float('nan'))\n",
    "        spotFeatures['energy'].append(float('nan'))\n",
    "        \n",
    "    # get the chord information\n",
    "    uniqChords = dfAllSongs['Chords'][iSong].split(',')\n",
    "    nUniqueChords.append(len(uniqChords))    \n",
    "#     chordDensity.append(nUniqueChords[iSong]/spotFeatures['duration_m'][iSong])\n",
    "    \n",
    "    nTotalChanges = len(dfAllSongs['All Chords'][iSong].split(','))\n",
    "    chordDensity.append(nTotalChanges/spotFeatures['duration_m'][iSong])\n",
    "\n",
    "    tmpHard = []\n",
    "    for kCh in range(0, nUniqueChords[iSong]):\n",
    "        tmpHard.append(uniqChords[kCh] not in standardList)\n",
    "\n",
    "    nHardChords.append(sum(tmpHard))\n"
   ]
  },
  {
   "cell_type": "code",
   "execution_count": 59,
   "metadata": {},
   "outputs": [
    {
     "name": "stdout",
     "output_type": "stream",
     "text": [
      "2515\n"
     ]
    },
    {
     "data": {
      "text/html": [
       "<div>\n",
       "<style scoped>\n",
       "    .dataframe tbody tr th:only-of-type {\n",
       "        vertical-align: middle;\n",
       "    }\n",
       "\n",
       "    .dataframe tbody tr th {\n",
       "        vertical-align: top;\n",
       "    }\n",
       "\n",
       "    .dataframe thead th {\n",
       "        text-align: right;\n",
       "    }\n",
       "</style>\n",
       "<table border=\"1\" class=\"dataframe\">\n",
       "  <thead>\n",
       "    <tr style=\"text-align: right;\">\n",
       "      <th></th>\n",
       "      <th>tempo</th>\n",
       "      <th>duration_m</th>\n",
       "      <th>time_signature</th>\n",
       "      <th>energy</th>\n",
       "      <th>n_unique_chords</th>\n",
       "      <th>n_difficult_chords</th>\n",
       "      <th>chord_per_min</th>\n",
       "    </tr>\n",
       "  </thead>\n",
       "  <tbody>\n",
       "    <tr>\n",
       "      <th>0</th>\n",
       "      <td>89.132</td>\n",
       "      <td>2.408833</td>\n",
       "      <td>4.0</td>\n",
       "      <td>0.7260</td>\n",
       "      <td>8</td>\n",
       "      <td>2</td>\n",
       "      <td>47.740953</td>\n",
       "    </tr>\n",
       "    <tr>\n",
       "      <th>1</th>\n",
       "      <td>76.364</td>\n",
       "      <td>1.981967</td>\n",
       "      <td>4.0</td>\n",
       "      <td>0.0439</td>\n",
       "      <td>21</td>\n",
       "      <td>11</td>\n",
       "      <td>56.509528</td>\n",
       "    </tr>\n",
       "    <tr>\n",
       "      <th>2</th>\n",
       "      <td>172.286</td>\n",
       "      <td>3.533967</td>\n",
       "      <td>4.0</td>\n",
       "      <td>0.2920</td>\n",
       "      <td>4</td>\n",
       "      <td>0</td>\n",
       "      <td>17.826993</td>\n",
       "    </tr>\n",
       "    <tr>\n",
       "      <th>3</th>\n",
       "      <td>96.996</td>\n",
       "      <td>1.981967</td>\n",
       "      <td>4.0</td>\n",
       "      <td>0.7710</td>\n",
       "      <td>13</td>\n",
       "      <td>13</td>\n",
       "      <td>43.895794</td>\n",
       "    </tr>\n",
       "    <tr>\n",
       "      <th>4</th>\n",
       "      <td>129.012</td>\n",
       "      <td>4.212883</td>\n",
       "      <td>4.0</td>\n",
       "      <td>0.4900</td>\n",
       "      <td>3</td>\n",
       "      <td>0</td>\n",
       "      <td>13.292559</td>\n",
       "    </tr>\n",
       "  </tbody>\n",
       "</table>\n",
       "</div>"
      ],
      "text/plain": [
       "     tempo  duration_m  time_signature  energy  n_unique_chords  \\\n",
       "0   89.132    2.408833             4.0  0.7260                8   \n",
       "1   76.364    1.981967             4.0  0.0439               21   \n",
       "2  172.286    3.533967             4.0  0.2920                4   \n",
       "3   96.996    1.981967             4.0  0.7710               13   \n",
       "4  129.012    4.212883             4.0  0.4900                3   \n",
       "\n",
       "   n_difficult_chords  chord_per_min  \n",
       "0                   2      47.740953  \n",
       "1                  11      56.509528  \n",
       "2                   0      17.826993  \n",
       "3                  13      43.895794  \n",
       "4                   0      13.292559  "
      ]
     },
     "execution_count": 59,
     "metadata": {},
     "output_type": "execute_result"
    }
   ],
   "source": [
    "# combine everything into one DF called allFeatures\n",
    "spotFeatures = pd.DataFrame.from_dict(spotFeatures)\n",
    "# spotFeatures.head()\n",
    "allFeatures = spotFeatures\n",
    "\n",
    "allFeatures['n_unique_chords']     = nUniqueChords\n",
    "allFeatures['n_difficult_chords']  = nHardChords\n",
    "allFeatures['chord_per_min']       = chordDensity\n",
    "\n",
    "print(len(allFeatures))\n",
    "allFeatures.head()"
   ]
  },
  {
   "cell_type": "code",
   "execution_count": 60,
   "metadata": {},
   "outputs": [],
   "source": [
    "# append to the sql db\n",
    "allFeatures.to_sql('features', con=conn, if_exists='append')\n"
   ]
  },
  {
   "cell_type": "code",
   "execution_count": 30,
   "metadata": {},
   "outputs": [],
   "source": [
    "# cur.close()\n",
    "# conn.close()"
   ]
  },
  {
   "cell_type": "code",
   "execution_count": 65,
   "metadata": {},
   "outputs": [
    {
     "name": "stdout",
     "output_type": "stream",
     "text": [
      "Int64Index([181, 195, 482, 496, 1032, 1318, 1458, 1603, 2256, 2281, 2359,\n",
      "            2435],\n",
      "           dtype='int64')\n"
     ]
    }
   ],
   "source": [
    "# find nans\n",
    "index = allFeat['tempo'].index[allFeat['tempo'].apply(np.isnan)]\n",
    "print(index)"
   ]
  },
  {
   "cell_type": "code",
   "execution_count": 82,
   "metadata": {},
   "outputs": [],
   "source": [
    "# load the model\n",
    "# filename = 'lr_adv_model_0930.sav'\n",
    "filename = 'model_files/lr_adv_model_1004.sav'\n",
    "lr_adv = pickle.load(open(filename, 'rb'))"
   ]
  },
  {
   "cell_type": "code",
   "execution_count": 83,
   "metadata": {},
   "outputs": [],
   "source": [
    "allFeat = pd.read_sql_query(\"SELECT * FROM features\", conn) #get from sql\n",
    "# allFeat.dropna(axis=0, how='any', inplace=True) # remove nans\n",
    "allFeat.reset_index(drop=True, inplace=True) #reset index\n",
    "allFeat.drop('index', axis=1, inplace=True) # drop the extra column sql added\n",
    "\n",
    "scaler = StandardScaler()\n",
    "\n",
    "scaler.fit(allFeat)\n",
    "feat_scale = scaler.transform(allFeat)"
   ]
  },
  {
   "cell_type": "code",
   "execution_count": 84,
   "metadata": {},
   "outputs": [
    {
     "data": {
      "text/plain": [
       "array([0., 1., 0., ..., 1., 0., 1.])"
      ]
     },
     "execution_count": 84,
     "metadata": {},
     "output_type": "execute_result"
    }
   ],
   "source": [
    "adv_predictions = lr_adv.predict(feat_scale)\n",
    "adv_predictions"
   ]
  },
  {
   "cell_type": "code",
   "execution_count": 85,
   "metadata": {},
   "outputs": [],
   "source": [
    "# load the model\n",
    "filename = 'model_files/lr_nov_model_1004.sav'\n",
    "lr_nov = pickle.load(open(filename, 'rb'))"
   ]
  },
  {
   "cell_type": "code",
   "execution_count": 86,
   "metadata": {},
   "outputs": [
    {
     "data": {
      "text/plain": [
       "array([1., 0., 1., ..., 0., 1., 0.])"
      ]
     },
     "execution_count": 86,
     "metadata": {},
     "output_type": "execute_result"
    }
   ],
   "source": [
    "nov_predictions = lr_nov.predict(feat_scale)\n",
    "nov_predictions"
   ]
  },
  {
   "cell_type": "code",
   "execution_count": 87,
   "metadata": {},
   "outputs": [
    {
     "data": {
      "text/html": [
       "<div>\n",
       "<style scoped>\n",
       "    .dataframe tbody tr th:only-of-type {\n",
       "        vertical-align: middle;\n",
       "    }\n",
       "\n",
       "    .dataframe tbody tr th {\n",
       "        vertical-align: top;\n",
       "    }\n",
       "\n",
       "    .dataframe thead th {\n",
       "        text-align: right;\n",
       "    }\n",
       "</style>\n",
       "<table border=\"1\" class=\"dataframe\">\n",
       "  <thead>\n",
       "    <tr style=\"text-align: right;\">\n",
       "      <th></th>\n",
       "      <th>Label</th>\n",
       "      <th>model_isAdv</th>\n",
       "      <th>model_isNov</th>\n",
       "    </tr>\n",
       "  </thead>\n",
       "  <tbody>\n",
       "    <tr>\n",
       "      <th>0</th>\n",
       "      <td>advanced</td>\n",
       "      <td>0.0</td>\n",
       "      <td>1.0</td>\n",
       "    </tr>\n",
       "    <tr>\n",
       "      <th>1</th>\n",
       "      <td>advanced</td>\n",
       "      <td>1.0</td>\n",
       "      <td>0.0</td>\n",
       "    </tr>\n",
       "    <tr>\n",
       "      <th>2</th>\n",
       "      <td>novice</td>\n",
       "      <td>0.0</td>\n",
       "      <td>1.0</td>\n",
       "    </tr>\n",
       "    <tr>\n",
       "      <th>3</th>\n",
       "      <td>advanced</td>\n",
       "      <td>1.0</td>\n",
       "      <td>0.0</td>\n",
       "    </tr>\n",
       "    <tr>\n",
       "      <th>4</th>\n",
       "      <td>novice</td>\n",
       "      <td>0.0</td>\n",
       "      <td>1.0</td>\n",
       "    </tr>\n",
       "  </tbody>\n",
       "</table>\n",
       "</div>"
      ],
      "text/plain": [
       "      Label  model_isAdv  model_isNov\n",
       "0  advanced          0.0          1.0\n",
       "1  advanced          1.0          0.0\n",
       "2    novice          0.0          1.0\n",
       "3  advanced          1.0          0.0\n",
       "4    novice          0.0          1.0"
      ]
     },
     "execution_count": 87,
     "metadata": {},
     "output_type": "execute_result"
    }
   ],
   "source": [
    "# get ult-guitar labels from basic info table\n",
    "label = pd.read_sql_query(\"SELECT Label FROM basic_info\", conn)\n",
    "\n",
    "# add columns for the two model predictions\n",
    "label['model_isAdv']= adv_predictions\n",
    "label['model_isNov']= nov_predictions\n",
    "\n",
    "# rename first column\n",
    "label.rename(columns={'Label': 'ug_label'})\n",
    "\n",
    "label.head()"
   ]
  },
  {
   "cell_type": "code",
   "execution_count": 92,
   "metadata": {},
   "outputs": [],
   "source": [
    "# save a new table in the sql db called 'label'\n",
    "label.to_sql('label', con=conn, if_exists='append')"
   ]
  },
  {
   "cell_type": "code",
   "execution_count": 88,
   "metadata": {},
   "outputs": [
    {
     "data": {
      "text/html": [
       "<div>\n",
       "<style scoped>\n",
       "    .dataframe tbody tr th:only-of-type {\n",
       "        vertical-align: middle;\n",
       "    }\n",
       "\n",
       "    .dataframe tbody tr th {\n",
       "        vertical-align: top;\n",
       "    }\n",
       "\n",
       "    .dataframe thead th {\n",
       "        text-align: right;\n",
       "    }\n",
       "</style>\n",
       "<table border=\"1\" class=\"dataframe\">\n",
       "  <thead>\n",
       "    <tr style=\"text-align: right;\">\n",
       "      <th></th>\n",
       "      <th>advanced</th>\n",
       "      <th>intermediate</th>\n",
       "      <th>novice</th>\n",
       "    </tr>\n",
       "  </thead>\n",
       "  <tbody>\n",
       "    <tr>\n",
       "      <th>0</th>\n",
       "      <td>1</td>\n",
       "      <td>0</td>\n",
       "      <td>0</td>\n",
       "    </tr>\n",
       "    <tr>\n",
       "      <th>1</th>\n",
       "      <td>1</td>\n",
       "      <td>0</td>\n",
       "      <td>0</td>\n",
       "    </tr>\n",
       "    <tr>\n",
       "      <th>2</th>\n",
       "      <td>0</td>\n",
       "      <td>0</td>\n",
       "      <td>1</td>\n",
       "    </tr>\n",
       "    <tr>\n",
       "      <th>3</th>\n",
       "      <td>1</td>\n",
       "      <td>0</td>\n",
       "      <td>0</td>\n",
       "    </tr>\n",
       "    <tr>\n",
       "      <th>4</th>\n",
       "      <td>0</td>\n",
       "      <td>0</td>\n",
       "      <td>1</td>\n",
       "    </tr>\n",
       "  </tbody>\n",
       "</table>\n",
       "</div>"
      ],
      "text/plain": [
       "   advanced  intermediate  novice\n",
       "0         1             0       0\n",
       "1         1             0       0\n",
       "2         0             0       1\n",
       "3         1             0       0\n",
       "4         0             0       1"
      ]
     },
     "execution_count": 88,
     "metadata": {},
     "output_type": "execute_result"
    }
   ],
   "source": [
    "dummyLabel=pd.get_dummies(label['Label'])\n",
    "dummyLabel.head()"
   ]
  },
  {
   "cell_type": "code",
   "execution_count": 90,
   "metadata": {},
   "outputs": [
    {
     "name": "stdout",
     "output_type": "stream",
     "text": [
      "0.7778665601278466\n",
      "0.6352377147423093\n"
     ]
    }
   ],
   "source": [
    "print( np.mean(dummyLabel['advanced']==label['model_isAdv']) )\n",
    "print( np.mean(dummyLabel['novice']==label['model_isNov']) )"
   ]
  },
  {
   "cell_type": "code",
   "execution_count": null,
   "metadata": {},
   "outputs": [],
   "source": []
  }
 ],
 "metadata": {
  "kernelspec": {
   "display_name": "Python 3",
   "language": "python",
   "name": "python3"
  },
  "language_info": {
   "codemirror_mode": {
    "name": "ipython",
    "version": 3
   },
   "file_extension": ".py",
   "mimetype": "text/x-python",
   "name": "python",
   "nbconvert_exporter": "python",
   "pygments_lexer": "ipython3",
   "version": "3.7.3"
  }
 },
 "nbformat": 4,
 "nbformat_minor": 2
}
