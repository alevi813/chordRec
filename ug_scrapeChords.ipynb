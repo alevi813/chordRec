{
 "cells": [
  {
   "cell_type": "code",
   "execution_count": 1,
   "metadata": {},
   "outputs": [],
   "source": [
    "from requests import get\n",
    "from bs4 import BeautifulSoup\n",
    "\n",
    "import csv\n",
    "import pandas as pd\n",
    "\n",
    "from time import sleep\n",
    "from random import randint"
   ]
  },
  {
   "cell_type": "code",
   "execution_count": 2,
   "metadata": {},
   "outputs": [],
   "source": [
    "# url = 'https://tabs.ultimate-guitar.com/tab/bill-withers/aint-no-sunshine-chords-468744'"
   ]
  },
  {
   "cell_type": "code",
   "execution_count": 3,
   "metadata": {},
   "outputs": [],
   "source": [
    "def parse_title(url):\n",
    "    artist_and_title = url.split('tab/')[1]  \n",
    "\n",
    "    if '/' in artist_and_title:\n",
    "        artist = artist_and_title.split('/')[0]  \n",
    "        title  = artist_and_title.split('/')[1]\n",
    "        title  = title.split('-ch')[0]\n",
    "    else:\n",
    "        artist = 'unknown'\n",
    "        title = 'unknown'\n",
    "    \n",
    "    return artist, title"
   ]
  },
  {
   "cell_type": "code",
   "execution_count": 4,
   "metadata": {},
   "outputs": [],
   "source": [
    "def scrape(url, skill): \n",
    "    output_list = []\n",
    "    chordlist   = []\n",
    "    \n",
    "    sleep(randint(1,4))\n",
    "    response = get(url)\n",
    "    html_soup = BeautifulSoup(response.text, 'lxml')\n",
    "\n",
    "    lessSoupy = html_soup.find('div', class_='js-store')\n",
    "    stringySoup = str(lessSoupy)\n",
    "\n",
    "    splitSoup = stringySoup.split('[ch]')[1:-1]\n",
    "\n",
    "    for ielement in range(0, len(splitSoup)):\n",
    "        chordlist.append(str(splitSoup[ielement]).split('[/ch')[0])\n",
    "        \n",
    "    artist_name, song_name = parse_title(url)\n",
    "\n",
    "    output_list.append((\"Song\", song_name))\n",
    "    output_list.append((\"Artist\", artist_name))\n",
    "\n",
    "#     allChords = (\"All Chords\", chords)\n",
    "    #output_list.append(allChords)\n",
    "\n",
    "    chords = set(chordlist)\n",
    "    chords = \",\".join(chords)\n",
    "    chords = (\"Chords\", chords)\n",
    "    output_list.append(chords)\n",
    "#     output_list.append(allChords)\n",
    "\n",
    "    skill_out = (\"Label\", skill)\n",
    "    output_list.append(skill_out)\n",
    "\n",
    "    song_info = dict(output_list)\n",
    "\n",
    "    return song_info"
   ]
  },
  {
   "cell_type": "code",
   "execution_count": 8,
   "metadata": {},
   "outputs": [],
   "source": [
    "# Time to get the chords\n",
    "from os import listdir\n",
    "from os.path import isfile, join\n",
    "import string\n",
    "\n",
    "nPages     = 10\n",
    "skill      = ['novice', 'intermediate', 'advanced']\n",
    "linksPath  = '/Users/aaronlevi/Documents/Insight2020/chordRec/ug_song_links/'\n",
    "linksFiles = [f for f in listdir(linksPath) if isfile(join(linksPath, f))]\n",
    "# linksFiles.remove('.DS_Store')\n",
    "# alpha = string.ascii_lowercase\n",
    "\n",
    "# load the txt file of links for each skill level and each page and SCRAPE\n",
    "for iLevel in range(0,len(skill)):\n",
    "    for iPage in range(1,nPages+1):\n",
    "        # get list of links\n",
    "        # link_df = pd.read_csv('ug_song_links/intermediate_page1_links.txt', sep=' ', header=None, names=['song_links'])\n",
    "        link_df = pd.read_csv('ug_song_links/'+skill[iLevel]+'_'+str(iPage)+'_links.txt', sep=' ', header=None, names=['song_links'])\n",
    "\n",
    "        # scrape links one by one for chords, save out a dictionary when successful\n",
    "        for iSong in range(0, len(link_df)):\n",
    "            url = link_df['song_links'][iSong]\n",
    "            song_info = scrape(url, skill[iLevel])\n",
    "\n",
    "            if song_info['Chords']:\n",
    "                # set up name string\n",
    "                tmpName = [song_info['Artist'] + ' - ' + song_info['Song']]\n",
    "                fname = ' ' \n",
    "                fname = fname.join(tmpName)\n",
    "\n",
    "                # open, write, save a csv under \"Aritst - Song\"\n",
    "#                 with open('ug_chords/'+fname+'.csv', 'w') as f:\n",
    "                with open('ug_chords10/'+fname+'.csv', 'w') as f:\n",
    "                    for key in song_info.keys():\n",
    "                        f.write(\"%s,%s\\n\"%(key,song_info[key]))"
   ]
  },
  {
   "cell_type": "code",
   "execution_count": null,
   "metadata": {},
   "outputs": [],
   "source": []
  }
 ],
 "metadata": {
  "kernelspec": {
   "display_name": "Python 3",
   "language": "python",
   "name": "python3"
  },
  "language_info": {
   "codemirror_mode": {
    "name": "ipython",
    "version": 3
   },
   "file_extension": ".py",
   "mimetype": "text/x-python",
   "name": "python",
   "nbconvert_exporter": "python",
   "pygments_lexer": "ipython3",
   "version": "3.7.3"
  }
 },
 "nbformat": 4,
 "nbformat_minor": 2
}
