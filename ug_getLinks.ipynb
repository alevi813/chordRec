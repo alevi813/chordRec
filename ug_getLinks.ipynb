{
 "cells": [
  {
   "cell_type": "code",
   "execution_count": 41,
   "metadata": {},
   "outputs": [],
   "source": [
    "from requests import get\n",
    "from bs4 import BeautifulSoup\n",
    "import csv\n",
    "import string\n",
    "\n",
    "from time import sleep\n",
    "from random import randint"
   ]
  },
  {
   "cell_type": "code",
   "execution_count": 57,
   "metadata": {},
   "outputs": [],
   "source": [
    "skill = ['novice', 'intermediate', 'advanced']\n",
    "\n",
    "for iLevel in range(0,len(skill)):\n",
    "#     for iPage in range(1,10):\n",
    "# url = 'https://www.ultimate-guitar.com/explore?difficulty[]=intermediate&&type[]=Chords&page=1'\n",
    "        url = 'https://www.ultimate-guitar.com/explore?difficulty[]='+skill[iLevel]+'&&type[]=Chords&page='+str(iPage)\n",
    "\n",
    "        sleep(randint(1,4))\n",
    "        response  = get(url)\n",
    "        html_soup = BeautifulSoup(response.text, 'lxml')\n",
    "\n",
    "        lessSoupy = html_soup.find('div', class_='js-store')\n",
    "        stringySoup = str(lessSoupy)\n",
    "\n",
    "        linkList = []\n",
    "        linksOut = \"/Users/aaronlevi/Documents/Insight2020/chordRec/ug_song_links\"\n",
    "\n",
    "        # splitSoup = stringySoup.split('https://www.ultimate-guitar.com/artist/')\n",
    "        splitSoup = stringySoup.split('&quot;tab_url&quot;:&quot;')\n",
    "        splitSoup = splitSoup[1:]\n",
    "\n",
    "        for iSong in range(0, 49):\n",
    "            linkList.append(splitSoup[iSong].split('&quot;')[0])\n",
    "\n",
    "            with open(linksOut + \"/\"+skill[iLevel]+\"_\"+str(iPage)+\"_links.txt\", \"w+\") as output_file:\n",
    "                for link_element in range(0, len(linkList)):\n",
    "                    output_file.write(linkList[link_element] + '\\n')\n"
   ]
  },
  {
   "cell_type": "code",
   "execution_count": null,
   "metadata": {},
   "outputs": [],
   "source": []
  }
 ],
 "metadata": {
  "kernelspec": {
   "display_name": "Python 3",
   "language": "python",
   "name": "python3"
  },
  "language_info": {
   "codemirror_mode": {
    "name": "ipython",
    "version": 3
   },
   "file_extension": ".py",
   "mimetype": "text/x-python",
   "name": "python",
   "nbconvert_exporter": "python",
   "pygments_lexer": "ipython3",
   "version": "3.7.3"
  }
 },
 "nbformat": 4,
 "nbformat_minor": 2
}
