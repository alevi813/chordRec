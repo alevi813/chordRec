{
 "cells": [
  {
   "cell_type": "code",
   "execution_count": 26,
   "metadata": {},
   "outputs": [],
   "source": [
    "import sqlite3\n",
    "import numpy as np\n",
    "import pandas as pd\n",
    "import matplotlib.pyplot as plt\n",
    "import seaborn as sns\n",
    "\n",
    "%matplotlib inline"
   ]
  },
  {
   "cell_type": "code",
   "execution_count": 2,
   "metadata": {},
   "outputs": [],
   "source": [
    "from sklearn.model_selection import train_test_split\n",
    "from sklearn.linear_model import LogisticRegression\n",
    "\n",
    "from sklearn.preprocessing import StandardScaler\n",
    "\n",
    "from sklearn.metrics import classification_report, confusion_matrix"
   ]
  },
  {
   "cell_type": "code",
   "execution_count": null,
   "metadata": {},
   "outputs": [],
   "source": [
    "def balanced_subsample(x,y,subsample_size=1.0):\n",
    "\n",
    "    class_xs = []\n",
    "    min_elems = None\n",
    "\n",
    "    for yi in np.unique(y):\n",
    "        elems = x[(y == yi)]\n",
    "        class_xs.append((yi, elems))\n",
    "        if min_elems == None or elems.shape[0] < min_elems:\n",
    "            min_elems = elems.shape[0]\n",
    "\n",
    "    use_elems = min_elems\n",
    "    if subsample_size < 1:\n",
    "        use_elems = int(min_elems*subsample_size)\n",
    "\n",
    "    xs = []\n",
    "    ys = []\n",
    "\n",
    "    for ci,this_xs in class_xs:\n",
    "        if len(this_xs) > use_elems:\n",
    "#             np.random.shuffle(this_xs)\n",
    "            this_xs = this_xs.reindex(np.random.permutation(this_xs.index))\n",
    "\n",
    "\n",
    "        x_ = this_xs[:use_elems]\n",
    "        y_ = np.empty(use_elems)\n",
    "        y_.fill(ci)\n",
    "\n",
    "        xs.append(x_)\n",
    "        ys.append(y_)\n",
    "\n",
    "#     xs = np.concatenate(xs)\n",
    "#     ys = np.concatenate(ys)\n",
    "    xs = pd.concat(xs)\n",
    "    ys = pd.Series(data=np.concatenate(ys),name='target')\n",
    "\n",
    "    return xs,ys"
   ]
  },
  {
   "cell_type": "code",
   "execution_count": 3,
   "metadata": {},
   "outputs": [],
   "source": [
    "conn = sqlite3.connect('/Users/aaronlevi/Documents/sql_db/pick-a-tune.db')\n",
    "cur = conn.cursor()\n",
    "\n",
    "# cur.close()\n",
    "# conn.close()"
   ]
  },
  {
   "cell_type": "code",
   "execution_count": 4,
   "metadata": {},
   "outputs": [],
   "source": [
    "allFeatures = pd.read_sql_query(\"SELECT * FROM features\", conn)\n",
    "labels = pd.read_sql_query(\"SELECT label FROM basic_info\", conn)\n",
    "\n",
    "# allFeatures = allFeatures.reset_index(drop=True)\n",
    "# allFeatures.drop('index', axis=1, inplace=True)\n",
    "\n",
    "# labels = labels.reset_index(drop=True)\n",
    "\n",
    "allFeatures = allFeatures.iloc[57:1329].reset_index(drop=True)\n",
    "allFeatures.drop('index', axis=1, inplace=True)\n",
    "\n",
    "labels = labels.iloc[57:1329].reset_index(drop=True)"
   ]
  },
  {
   "cell_type": "code",
   "execution_count": 5,
   "metadata": {},
   "outputs": [
    {
     "data": {
      "text/html": [
       "<div>\n",
       "<style scoped>\n",
       "    .dataframe tbody tr th:only-of-type {\n",
       "        vertical-align: middle;\n",
       "    }\n",
       "\n",
       "    .dataframe tbody tr th {\n",
       "        vertical-align: top;\n",
       "    }\n",
       "\n",
       "    .dataframe thead th {\n",
       "        text-align: right;\n",
       "    }\n",
       "</style>\n",
       "<table border=\"1\" class=\"dataframe\">\n",
       "  <thead>\n",
       "    <tr style=\"text-align: right;\">\n",
       "      <th></th>\n",
       "      <th>Label_advanced</th>\n",
       "      <th>Label_intermediate</th>\n",
       "      <th>Label_novice</th>\n",
       "    </tr>\n",
       "  </thead>\n",
       "  <tbody>\n",
       "    <tr>\n",
       "      <th>0</th>\n",
       "      <td>1</td>\n",
       "      <td>0</td>\n",
       "      <td>0</td>\n",
       "    </tr>\n",
       "    <tr>\n",
       "      <th>1</th>\n",
       "      <td>0</td>\n",
       "      <td>1</td>\n",
       "      <td>0</td>\n",
       "    </tr>\n",
       "    <tr>\n",
       "      <th>2</th>\n",
       "      <td>0</td>\n",
       "      <td>0</td>\n",
       "      <td>1</td>\n",
       "    </tr>\n",
       "    <tr>\n",
       "      <th>3</th>\n",
       "      <td>1</td>\n",
       "      <td>0</td>\n",
       "      <td>0</td>\n",
       "    </tr>\n",
       "    <tr>\n",
       "      <th>4</th>\n",
       "      <td>0</td>\n",
       "      <td>0</td>\n",
       "      <td>1</td>\n",
       "    </tr>\n",
       "  </tbody>\n",
       "</table>\n",
       "</div>"
      ],
      "text/plain": [
       "   Label_advanced  Label_intermediate  Label_novice\n",
       "0               1                   0             0\n",
       "1               0                   1             0\n",
       "2               0                   0             1\n",
       "3               1                   0             0\n",
       "4               0                   0             1"
      ]
     },
     "execution_count": 5,
     "metadata": {},
     "output_type": "execute_result"
    }
   ],
   "source": [
    "dummyLabel=pd.get_dummies(labels)\n",
    "dummyLabel.head()"
   ]
  },
  {
   "cell_type": "code",
   "execution_count": 73,
   "metadata": {},
   "outputs": [
    {
     "data": {
      "text/html": [
       "<div>\n",
       "<style scoped>\n",
       "    .dataframe tbody tr th:only-of-type {\n",
       "        vertical-align: middle;\n",
       "    }\n",
       "\n",
       "    .dataframe tbody tr th {\n",
       "        vertical-align: top;\n",
       "    }\n",
       "\n",
       "    .dataframe thead th {\n",
       "        text-align: right;\n",
       "    }\n",
       "</style>\n",
       "<table border=\"1\" class=\"dataframe\">\n",
       "  <thead>\n",
       "    <tr style=\"text-align: right;\">\n",
       "      <th></th>\n",
       "      <th>tempo</th>\n",
       "      <th>duration_m</th>\n",
       "      <th>time_signature</th>\n",
       "      <th>energy</th>\n",
       "      <th>n_unique_chords</th>\n",
       "      <th>n_difficult_chords</th>\n",
       "      <th>chord_per_min</th>\n",
       "      <th>Label_advanced</th>\n",
       "    </tr>\n",
       "  </thead>\n",
       "  <tbody>\n",
       "    <tr>\n",
       "      <th>0</th>\n",
       "      <td>123.015</td>\n",
       "      <td>1.786167</td>\n",
       "      <td>4.0</td>\n",
       "      <td>0.245</td>\n",
       "      <td>15</td>\n",
       "      <td>14</td>\n",
       "      <td>23.514043</td>\n",
       "      <td>1</td>\n",
       "    </tr>\n",
       "    <tr>\n",
       "      <th>1</th>\n",
       "      <td>92.640</td>\n",
       "      <td>3.737333</td>\n",
       "      <td>4.0</td>\n",
       "      <td>0.139</td>\n",
       "      <td>12</td>\n",
       "      <td>0</td>\n",
       "      <td>21.673207</td>\n",
       "      <td>0</td>\n",
       "    </tr>\n",
       "    <tr>\n",
       "      <th>2</th>\n",
       "      <td>131.712</td>\n",
       "      <td>12.112833</td>\n",
       "      <td>4.0</td>\n",
       "      <td>0.260</td>\n",
       "      <td>8</td>\n",
       "      <td>4</td>\n",
       "      <td>18.823011</td>\n",
       "      <td>0</td>\n",
       "    </tr>\n",
       "    <tr>\n",
       "      <th>3</th>\n",
       "      <td>129.937</td>\n",
       "      <td>4.476100</td>\n",
       "      <td>4.0</td>\n",
       "      <td>0.364</td>\n",
       "      <td>14</td>\n",
       "      <td>8</td>\n",
       "      <td>21.447242</td>\n",
       "      <td>1</td>\n",
       "    </tr>\n",
       "    <tr>\n",
       "      <th>4</th>\n",
       "      <td>83.720</td>\n",
       "      <td>2.723117</td>\n",
       "      <td>4.0</td>\n",
       "      <td>0.307</td>\n",
       "      <td>13</td>\n",
       "      <td>4</td>\n",
       "      <td>23.135256</td>\n",
       "      <td>0</td>\n",
       "    </tr>\n",
       "  </tbody>\n",
       "</table>\n",
       "</div>"
      ],
      "text/plain": [
       "     tempo  duration_m  time_signature  energy  n_unique_chords  \\\n",
       "0  123.015    1.786167             4.0   0.245               15   \n",
       "1   92.640    3.737333             4.0   0.139               12   \n",
       "2  131.712   12.112833             4.0   0.260                8   \n",
       "3  129.937    4.476100             4.0   0.364               14   \n",
       "4   83.720    2.723117             4.0   0.307               13   \n",
       "\n",
       "   n_difficult_chords  chord_per_min  Label_advanced  \n",
       "0                  14      23.514043               1  \n",
       "1                   0      21.673207               0  \n",
       "2                   4      18.823011               0  \n",
       "3                   8      21.447242               1  \n",
       "4                   4      23.135256               0  "
      ]
     },
     "execution_count": 73,
     "metadata": {},
     "output_type": "execute_result"
    }
   ],
   "source": [
    "# making a few df's for ease of plotting... kinda clunky\n",
    "featuresWithLabels = pd.concat([allFeatures, dummyLabel], axis=1, sort=False)\n",
    "featuresWithLabels.dropna(axis=0, how='any', inplace=True)\n",
    "\n",
    "featuresNov = pd.concat([allFeatures, dummyLabel['Label_novice']], axis=1, sort=False)\n",
    "featuresNov.dropna(axis=0, how='any', inplace=True)\n",
    "\n",
    "featuresInter = pd.concat([allFeatures, dummyLabel['Label_intermediate']], axis=1, sort=False)\n",
    "featuresInter.dropna(axis=0, how='any', inplace=True)\n",
    "\n",
    "featuresAdv = pd.concat([allFeatures, dummyLabel['Label_advanced']], axis=1, sort=False)\n",
    "featuresAdv.dropna(axis=0, how='any', inplace=True)\n",
    "featuresAdv.head()"
   ]
  },
  {
   "cell_type": "code",
   "execution_count": 8,
   "metadata": {},
   "outputs": [],
   "source": [
    "X = featuresAdv.dropna(axis=0, how='any')\n",
    "X.reset_index(drop=True)\n",
    "\n",
    "y = X['Label_advanced']\n",
    "X.drop('Label_advanced', axis=1, inplace=True)"
   ]
  },
  {
   "cell_type": "code",
   "execution_count": 50,
   "metadata": {},
   "outputs": [
    {
     "data": {
      "text/plain": [
       "0.5"
      ]
     },
     "execution_count": 50,
     "metadata": {},
     "output_type": "execute_result"
    }
   ],
   "source": [
    "Xs, ys = balanced_subsample(X,y)\n",
    "sum(ys) / len(ys)"
   ]
  },
  {
   "cell_type": "code",
   "execution_count": 51,
   "metadata": {},
   "outputs": [
    {
     "data": {
      "text/plain": [
       "LogisticRegression()"
      ]
     },
     "execution_count": 51,
     "metadata": {},
     "output_type": "execute_result"
    }
   ],
   "source": [
    "scaler = StandardScaler()\n",
    "scaler.fit(Xs)\n",
    "X_scale = scaler.transform(Xs)\n",
    "\n",
    "X_train, X_test, y_train, y_test = train_test_split(X_scale, ys, test_size=0.2, random_state=10)\n",
    "\n",
    "lr_model_adv = LogisticRegression()\n",
    "lr_model_adv.fit(X_train, y_train) "
   ]
  },
  {
   "cell_type": "code",
   "execution_count": 52,
   "metadata": {},
   "outputs": [
    {
     "name": "stdout",
     "output_type": "stream",
     "text": [
      "[[90  5]\n",
      " [26 60]]\n",
      "              precision    recall  f1-score   support\n",
      "\n",
      "         0.0       0.78      0.95      0.85        95\n",
      "         1.0       0.92      0.70      0.79        86\n",
      "\n",
      "    accuracy                           0.83       181\n",
      "   macro avg       0.85      0.82      0.82       181\n",
      "weighted avg       0.85      0.83      0.83       181\n",
      "\n"
     ]
    }
   ],
   "source": [
    "adv_predictions = lr_model_adv.predict(X_test)\n",
    "adv_true = y_test\n",
    "\n",
    "print(confusion_matrix(y_test, adv_predictions))\n",
    "print(classification_report(y_test, adv_predictions))"
   ]
  },
  {
   "cell_type": "code",
   "execution_count": 55,
   "metadata": {},
   "outputs": [
    {
     "data": {
      "image/png": "[encoded data removed]",
      "text/plain": [
       "<Figure size 432x360 with 2 Axes>"
      ]
     },
     "metadata": {
      "needs_background": "light"
     },
     "output_type": "display_data"
    }
   ],
   "source": [
    "f = plt.figure(figsize=(6, 5))\n",
    "\n",
    "sns.heatmap(confusion_matrix(y_test, adv_predictions), cmap='gray', annot=[[90/181, 5/181],[26/181,60/181]])\n",
    "f.savefig(\"figures/isAdv_confusion.png\", bbox_inches='tight', dpi=600)"
   ]
  },
  {
   "cell_type": "code",
   "execution_count": 57,
   "metadata": {},
   "outputs": [
    {
     "data": {
      "text/html": [
       "<div>\n",
       "<style scoped>\n",
       "    .dataframe tbody tr th:only-of-type {\n",
       "        vertical-align: middle;\n",
       "    }\n",
       "\n",
       "    .dataframe tbody tr th {\n",
       "        vertical-align: top;\n",
       "    }\n",
       "\n",
       "    .dataframe thead th {\n",
       "        text-align: right;\n",
       "    }\n",
       "</style>\n",
       "<table border=\"1\" class=\"dataframe\">\n",
       "  <thead>\n",
       "    <tr style=\"text-align: right;\">\n",
       "      <th></th>\n",
       "      <th>tempo</th>\n",
       "      <th>duration_m</th>\n",
       "      <th>time_signature</th>\n",
       "      <th>energy</th>\n",
       "      <th>n_unique_chords</th>\n",
       "      <th>n_difficult_chords</th>\n",
       "      <th>chord_per_min</th>\n",
       "    </tr>\n",
       "  </thead>\n",
       "  <tbody>\n",
       "    <tr>\n",
       "      <th>0</th>\n",
       "      <td>0.133508</td>\n",
       "      <td>0.20698</td>\n",
       "      <td>-0.115582</td>\n",
       "      <td>0.086623</td>\n",
       "      <td>1.015371</td>\n",
       "      <td>1.717761</td>\n",
       "      <td>0.142571</td>\n",
       "    </tr>\n",
       "  </tbody>\n",
       "</table>\n",
       "</div>"
      ],
      "text/plain": [
       "      tempo  duration_m  time_signature    energy  n_unique_chords  \\\n",
       "0  0.133508     0.20698       -0.115582  0.086623         1.015371   \n",
       "\n",
       "   n_difficult_chords  chord_per_min  \n",
       "0            1.717761       0.142571  "
      ]
     },
     "execution_count": 57,
     "metadata": {},
     "output_type": "execute_result"
    }
   ],
   "source": [
    "pd.DataFrame(lr_model_adv.coef_, columns=X.columns)"
   ]
  },
  {
   "cell_type": "code",
   "execution_count": 74,
   "metadata": {},
   "outputs": [],
   "source": [
    "X = featuresNov.dropna(axis=0, how='any')\n",
    "X.reset_index(drop=True)\n",
    "\n",
    "y = X['Label_novice']\n",
    "X.drop('Label_novice', axis=1, inplace=True)"
   ]
  },
  {
   "cell_type": "code",
   "execution_count": 75,
   "metadata": {},
   "outputs": [
    {
     "data": {
      "text/plain": [
       "LogisticRegression()"
      ]
     },
     "execution_count": 75,
     "metadata": {},
     "output_type": "execute_result"
    }
   ],
   "source": [
    "Xs, ys = balanced_subsample(X,y)\n",
    "\n",
    "scaler.fit(Xs)\n",
    "X_scale = scaler.transform(Xs)\n",
    "\n",
    "X_train, X_test, y_train, y_test = train_test_split(X_scale, ys, test_size=0.2, random_state=10)\n",
    "\n",
    "lr_model_nov = LogisticRegression()\n",
    "lr_model_nov.fit(X_train, y_train) "
   ]
  },
  {
   "cell_type": "code",
   "execution_count": 76,
   "metadata": {},
   "outputs": [
    {
     "name": "stdout",
     "output_type": "stream",
     "text": [
      "[[43 34]\n",
      " [11 70]]\n",
      "              precision    recall  f1-score   support\n",
      "\n",
      "         0.0       0.80      0.56      0.66        77\n",
      "         1.0       0.67      0.86      0.76        81\n",
      "\n",
      "    accuracy                           0.72       158\n",
      "   macro avg       0.73      0.71      0.71       158\n",
      "weighted avg       0.73      0.72      0.71       158\n",
      "\n"
     ]
    }
   ],
   "source": [
    "nov_predictions = lr_model_nov.predict(X_test)\n",
    "nov_true = y_test\n",
    "\n",
    "print(confusion_matrix(y_test, nov_predictions))\n",
    "print(classification_report(y_test, nov_predictions))"
   ]
  },
  {
   "cell_type": "code",
   "execution_count": 80,
   "metadata": {},
   "outputs": [
    {
     "data": {
      "text/html": [
       "<div>\n",
       "<style scoped>\n",
       "    .dataframe tbody tr th:only-of-type {\n",
       "        vertical-align: middle;\n",
       "    }\n",
       "\n",
       "    .dataframe tbody tr th {\n",
       "        vertical-align: top;\n",
       "    }\n",
       "\n",
       "    .dataframe thead th {\n",
       "        text-align: right;\n",
       "    }\n",
       "</style>\n",
       "<table border=\"1\" class=\"dataframe\">\n",
       "  <thead>\n",
       "    <tr style=\"text-align: right;\">\n",
       "      <th></th>\n",
       "      <th>tempo</th>\n",
       "      <th>duration_m</th>\n",
       "      <th>time_signature</th>\n",
       "      <th>energy</th>\n",
       "      <th>n_unique_chords</th>\n",
       "      <th>n_difficult_chords</th>\n",
       "      <th>chord_per_min</th>\n",
       "    </tr>\n",
       "  </thead>\n",
       "  <tbody>\n",
       "    <tr>\n",
       "      <th>0</th>\n",
       "      <td>-0.055554</td>\n",
       "      <td>-0.011113</td>\n",
       "      <td>-0.025625</td>\n",
       "      <td>-0.052201</td>\n",
       "      <td>-1.4074</td>\n",
       "      <td>-0.752094</td>\n",
       "      <td>-0.220538</td>\n",
       "    </tr>\n",
       "  </tbody>\n",
       "</table>\n",
       "</div>"
      ],
      "text/plain": [
       "      tempo  duration_m  time_signature    energy  n_unique_chords  \\\n",
       "0 -0.055554   -0.011113       -0.025625 -0.052201          -1.4074   \n",
       "\n",
       "   n_difficult_chords  chord_per_min  \n",
       "0           -0.752094      -0.220538  "
      ]
     },
     "execution_count": 80,
     "metadata": {},
     "output_type": "execute_result"
    }
   ],
   "source": [
    "pd.DataFrame(lr_model_nov.coef_, columns=X.columns)"
   ]
  },
  {
   "cell_type": "code",
   "execution_count": 79,
   "metadata": {},
   "outputs": [
    {
     "data": {
      "text/plain": [
       "<matplotlib.axes._subplots.AxesSubplot at 0x7f9bb11697b8>"
      ]
     },
     "execution_count": 79,
     "metadata": {},
     "output_type": "execute_result"
    },
    {
     "data": {
      "image/png": "[encoded data removed]",
      "text/plain": [
       "<Figure size 432x360 with 2 Axes>"
      ]
     },
     "metadata": {
      "needs_background": "light"
     },
     "output_type": "display_data"
    }
   ],
   "source": [
    "f = plt.figure(figsize=(6, 5))\n",
    "\n",
    "sns.heatmap(confusion_matrix(y_test, nov_predictions), cmap='gray', annot=[[43/158, 34/1158],[11/158,70/158]])\n",
    "# f.savefig(\"figures/isAdv_confusion.png\", bbox_inches='tight', dpi=600)"
   ]
  },
  {
   "cell_type": "code",
   "execution_count": 66,
   "metadata": {},
   "outputs": [],
   "source": [
    "X = featuresInter.dropna(axis=0, how='any')\n",
    "X.reset_index(drop=True)\n",
    "\n",
    "y = X['Label_intermediate']\n",
    "X.drop('Label_intermediate', axis=1, inplace=True)"
   ]
  },
  {
   "cell_type": "code",
   "execution_count": 69,
   "metadata": {},
   "outputs": [
    {
     "data": {
      "text/plain": [
       "LogisticRegression()"
      ]
     },
     "execution_count": 69,
     "metadata": {},
     "output_type": "execute_result"
    }
   ],
   "source": [
    "Xs, ys = balanced_subsample(X,y)\n",
    "\n",
    "scaler.fit(Xs)\n",
    "X_scale = scaler.transform(Xs)\n",
    "\n",
    "X_train, X_test, y_train, y_test = train_test_split(X_scale, ys, test_size=0.2, random_state=10)\n",
    "\n",
    "lr_model_int = LogisticRegression()\n",
    "lr_model_int.fit(X_train, y_train) "
   ]
  },
  {
   "cell_type": "code",
   "execution_count": 70,
   "metadata": {},
   "outputs": [
    {
     "name": "stdout",
     "output_type": "stream",
     "text": [
      "[[37 44]\n",
      " [21 68]]\n",
      "              precision    recall  f1-score   support\n",
      "\n",
      "         0.0       0.64      0.46      0.53        81\n",
      "         1.0       0.61      0.76      0.68        89\n",
      "\n",
      "    accuracy                           0.62       170\n",
      "   macro avg       0.62      0.61      0.60       170\n",
      "weighted avg       0.62      0.62      0.61       170\n",
      "\n"
     ]
    }
   ],
   "source": [
    "int_predictions = lr_model_int.predict(X_test)\n",
    "int_true = y_test\n",
    "\n",
    "print(confusion_matrix(y_test, int_predictions))\n",
    "print(classification_report(y_test, int_predictions))"
   ]
  },
  {
   "cell_type": "code",
   "execution_count": 81,
   "metadata": {},
   "outputs": [
    {
     "data": {
      "text/html": [
       "<div>\n",
       "<style scoped>\n",
       "    .dataframe tbody tr th:only-of-type {\n",
       "        vertical-align: middle;\n",
       "    }\n",
       "\n",
       "    .dataframe tbody tr th {\n",
       "        vertical-align: top;\n",
       "    }\n",
       "\n",
       "    .dataframe thead th {\n",
       "        text-align: right;\n",
       "    }\n",
       "</style>\n",
       "<table border=\"1\" class=\"dataframe\">\n",
       "  <thead>\n",
       "    <tr style=\"text-align: right;\">\n",
       "      <th></th>\n",
       "      <th>tempo</th>\n",
       "      <th>duration_m</th>\n",
       "      <th>time_signature</th>\n",
       "      <th>energy</th>\n",
       "      <th>n_unique_chords</th>\n",
       "      <th>n_difficult_chords</th>\n",
       "      <th>chord_per_min</th>\n",
       "    </tr>\n",
       "  </thead>\n",
       "  <tbody>\n",
       "    <tr>\n",
       "      <th>0</th>\n",
       "      <td>-0.044466</td>\n",
       "      <td>-0.195794</td>\n",
       "      <td>0.070018</td>\n",
       "      <td>-0.036864</td>\n",
       "      <td>0.435949</td>\n",
       "      <td>-1.134606</td>\n",
       "      <td>-0.077354</td>\n",
       "    </tr>\n",
       "  </tbody>\n",
       "</table>\n",
       "</div>"
      ],
      "text/plain": [
       "      tempo  duration_m  time_signature    energy  n_unique_chords  \\\n",
       "0 -0.044466   -0.195794        0.070018 -0.036864         0.435949   \n",
       "\n",
       "   n_difficult_chords  chord_per_min  \n",
       "0           -1.134606      -0.077354  "
      ]
     },
     "execution_count": 81,
     "metadata": {},
     "output_type": "execute_result"
    }
   ],
   "source": [
    "pd.DataFrame(lr_model_int.coef_, columns=X.columns)"
   ]
  },
  {
   "cell_type": "code",
   "execution_count": null,
   "metadata": {},
   "outputs": [],
   "source": []
  }
 ],
 "metadata": {
  "kernelspec": {
   "display_name": "Python 3",
   "language": "python",
   "name": "python3"
  },
  "language_info": {
   "codemirror_mode": {
    "name": "ipython",
    "version": 3
   },
   "file_extension": ".py",
   "mimetype": "text/x-python",
   "name": "python",
   "nbconvert_exporter": "python",
   "pygments_lexer": "ipython3",
   "version": "3.7.3"
  }
 },
 "nbformat": 4,
 "nbformat_minor": 2
}
