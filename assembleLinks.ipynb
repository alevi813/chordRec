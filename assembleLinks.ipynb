{
 "cells": [
  {
   "cell_type": "code",
   "execution_count": 4,
   "metadata": {},
   "outputs": [],
   "source": [
    "from requests import get\n",
    "from bs4 import BeautifulSoup\n",
    "import csv\n",
    "import string\n",
    "\n",
    "from time import sleep\n",
    "from random import randint"
   ]
  },
  {
   "cell_type": "code",
   "execution_count": 20,
   "metadata": {},
   "outputs": [],
   "source": [
    "nPages = 26\n",
    "\n",
    "url = 'https://www.guitaretab.com/{}_top.html'\n",
    "linksOut = \"/Users/aaronlevi/Documents/Insight2020/chordRec/song_links\"\n",
    "alpha = string.ascii_lowercase\n",
    "\n",
    "n_pages_visited = 0\n"
   ]
  },
  {
   "cell_type": "code",
   "execution_count": 21,
   "metadata": {},
   "outputs": [
    {
     "name": "stdout",
     "output_type": "stream",
     "text": [
      "Wrote links to a_links.txt\n",
      "Wrote links to b_links.txt\n",
      "Wrote links to c_links.txt\n",
      "Wrote links to d_links.txt\n",
      "Wrote links to e_links.txt\n",
      "Wrote links to f_links.txt\n",
      "Wrote links to g_links.txt\n",
      "Wrote links to h_links.txt\n",
      "Wrote links to i_links.txt\n",
      "Wrote links to j_links.txt\n",
      "Wrote links to k_links.txt\n",
      "Wrote links to l_links.txt\n",
      "Wrote links to m_links.txt\n",
      "Wrote links to n_links.txt\n",
      "Wrote links to o_links.txt\n",
      "Wrote links to p_links.txt\n",
      "Wrote links to q_links.txt\n",
      "Wrote links to r_links.txt\n",
      "Wrote links to s_links.txt\n",
      "Wrote links to t_links.txt\n",
      "Wrote links to u_links.txt\n",
      "Wrote links to v_links.txt\n",
      "Wrote links to w_links.txt\n",
      "Wrote links to x_links.txt\n",
      "Wrote links to y_links.txt\n",
      "Wrote links to z_links.txt\n"
     ]
    }
   ],
   "source": [
    "for ch in alpha:\n",
    "    sleep(randint(1,4))\n",
    "    response = get(url.format(ch))\n",
    "\n",
    "    html_soup = BeautifulSoup(response.text, 'lxml')\n",
    "    url_list = html_soup.find_all('a', class_='gt-link--primary')\n",
    "\n",
    "    with open(linksOut + \"/{}_links.txt\".format(ch), \"w+\") as output_file:\n",
    "\n",
    "        for link_element in url_list:\n",
    "            output_file.write('http://guitaretab.com' + link_element['href'] + '\\n')\n",
    "            \n",
    "    print(\"Wrote links to {}_links.txt\".format(ch))\n",
    "    n_pages_visited += 1\n",
    "    \n",
    "    if (n_pages_visited >= nPages):\n",
    "        break"
   ]
  },
  {
   "cell_type": "code",
   "execution_count": null,
   "metadata": {},
   "outputs": [],
   "source": []
  }
 ],
 "metadata": {
  "kernelspec": {
   "display_name": "Python 3",
   "language": "python",
   "name": "python3"
  },
  "language_info": {
   "codemirror_mode": {
    "name": "ipython",
    "version": 3
   },
   "file_extension": ".py",
   "mimetype": "text/x-python",
   "name": "python",
   "nbconvert_exporter": "python",
   "pygments_lexer": "ipython3",
   "version": "3.7.3"
  }
 },
 "nbformat": 4,
 "nbformat_minor": 2
}
