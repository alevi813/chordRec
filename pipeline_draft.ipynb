{
 "cells": [
  {
   "cell_type": "code",
   "execution_count": 326,
   "metadata": {},
   "outputs": [],
   "source": [
    "import pandas as pd\n",
    "import sqlite3\n",
    "import numpy as np\n",
    "\n",
    "\n",
    "# get spotify credentials\n",
    "import spotipy\n",
    "from spotipy.oauth2 import SpotifyClientCredentials\n",
    "spotifyCred = pd.read_csv('spotifyCred.csv')\n",
    "\n",
    "client_credentials_manager = SpotifyClientCredentials(client_id= spotifyCred['0'][0],\n",
    "                                                     client_secret= spotifyCred['0'][1])\n",
    "sp = spotipy.Spotify(client_credentials_manager=client_credentials_manager)\n",
    "\n",
    "conn = sqlite3.connect('/Users/aaronlevi/Documents/sql_db/chords_list.db')\n",
    "cur = conn.cursor()"
   ]
  },
  {
   "cell_type": "code",
   "execution_count": 338,
   "metadata": {},
   "outputs": [
    {
     "name": "stdout",
     "output_type": "stream",
     "text": [
      "         Artist    Chords Label                      Song  isAdv  nChords\n",
      "0  jimi-hendrix  Bb,Cm,Ab  None  all-along-the-watchtower      0        2\n"
     ]
    }
   ],
   "source": [
    "# check if known-song & playlist is in db\n",
    "# track = 'weezer, island in the sun'\n",
    "track = 'jimi hendrix, all along the watchtower'\n",
    "\n",
    "known_song   = str(track).split(', ')[1]\n",
    "artist = str(track).split(', ')[0]\n",
    "    \n",
    "# get db...\n",
    "song_info = pd.read_sql_query(\"SELECT * FROM basic_info\", conn)\n",
    "dblist    = song_info['Song'].tolist()\n",
    "# song_info.drop('index', axis=1, inplace=True)\n",
    "allFeatures = pd.read_sql_query(\"SELECT * FROM features\", conn)    \n",
    "# allFeatures.drop('index', axis=1, inplace=True)\n",
    "isAdv = pd.read_sql_query(\"SELECT model_isAdv FROM label\", conn) \n",
    "\n",
    "if known_song.replace(' ', '-').lower() in dblist:\n",
    "    knownSong_ix = dblist.index(known_song.replace(' ', '-').lower())\n",
    "\n",
    "    # get chords and features for the known song\n",
    "    known_df = pd.DataFrame(song_info.loc[knownSong_ix]).transpose()\n",
    "    known_df['isAdv'] = isAdv.loc[knownSong_ix][0]\n",
    "    known_df['nChords'] = allFeatures['n_unique_chords'].loc[knownSong_ix]\n",
    "\n",
    "known_df.drop('index', axis=1, inplace=True)\n",
    "known_df.reset_index(drop=True, inplace=True)\n",
    "print(known_df)"
   ]
  },
  {
   "cell_type": "code",
   "execution_count": 339,
   "metadata": {},
   "outputs": [],
   "source": [
    "isAdv.to_csv('isAdv.csv', index=False)\n",
    "allFeatures.to_csv('allFeatures.csv', index=False)\n",
    "song_info.to_csv('song_info.csv', index=False)"
   ]
  },
  {
   "cell_type": "code",
   "execution_count": 340,
   "metadata": {},
   "outputs": [],
   "source": [
    "# get playlist tracks\n",
    "pl_link = 'https://open.spotify.com/playlist/37i9dQZF1DWXRqgorJj26U?si=Lls1MGwsQRKr4BN64HBRZw'\n",
    "    \n",
    "pl_id   = pl_link.split('playlist/')[1]\n",
    "pl_id   = pl_id.split('?')[0]\n",
    "\n",
    "pl_tracks  = []\n",
    "pl_artists = []\n",
    "pl_indb    = []\n",
    "\n",
    "results = sp.user_playlist('Spotify', pl_id,\n",
    "                            fields='tracks,next,name')\n",
    "\n",
    "# check if their in the db\n",
    "for nItem in range(0, len(results['tracks']['items'])):\n",
    "    pl_tracks.append(results['tracks']['items'][nItem]['track']['name'].split(' -')[0].replace(' ', '-').lower() )\n",
    "    #     pl_tracks.append(results['tracks']['items'][nItem]['track']['name'].replace(' ', '-').lower())\n",
    "    pl_artists.append(results['tracks']['items'][nItem]['track']['artists'][0]['name'].replace(' ', '-').lower())\n",
    "\n",
    "    if pl_tracks[nItem] in dblist:\n",
    "        pl_indb.append(dblist.index(pl_tracks[nItem]))\n",
    "\n",
    "#     return pl_tracks, pl_artists\n",
    "# SELECT EXISTS(SELECT 1 FROM myTbl WHERE u_tag=\"tag\");\n",
    "\n",
    "# pl_db_ix = [i for i, x in enumerate(pl_indb) if x]"
   ]
  },
  {
   "cell_type": "code",
   "execution_count": 341,
   "metadata": {},
   "outputs": [],
   "source": [
    "# get chords and features for playlist songs in db\n",
    "input_df = song_info.loc[pl_indb]\n",
    "input_df['isAdv'] = isAdv.loc[pl_indb]\n",
    "input_df['nChords'] = allFeatures['n_unique_chords'].loc[pl_indb]\n",
    "\n",
    "input_df.drop('index', axis=1, inplace=True)\n",
    "input_df.reset_index(drop=True, inplace=True)\n",
    "\n",
    "# input_df"
   ]
  },
  {
   "cell_type": "code",
   "execution_count": 342,
   "metadata": {},
   "outputs": [],
   "source": [
    "# classify any songs not in db? \n",
    "# pd.read_sql_query(\"SELECT * FROM basic_info WHERE Song='island-in-the-sun'\", conn)\n",
    "# pd.read_sql_query(\"SELECT EXISTS(SELECT 1 FROM basic_info WHERE Song= str(pl_tracks[0]) \", conn)\n"
   ]
  },
  {
   "cell_type": "code",
   "execution_count": 343,
   "metadata": {},
   "outputs": [],
   "source": [
    "# run chord similarity analysis of songs in same class\n",
    "# known_df and input_df\n",
    "\n",
    "# get index of playlist songs in same class\n",
    "isAdvList = input_df['isAdv'].tolist()\n",
    "targDifficulty = known_df['isAdv'][0]\n",
    "\n",
    "if targDifficulty is 1:\n",
    "    sameDiff = [i for i, x in enumerate(isAdvList) if x]\n",
    "else:\n",
    "    sameDiff = [i for i, x in enumerate(isAdvList) if not x]\n",
    "    \n",
    "# narrow to only sameDiff songs\n",
    "sameDiff_df = input_df.loc[sameDiff]\n",
    "\n",
    "# get a list of songs with the same or few n unique chords\n",
    "close_n    = sameDiff_df['nChords'] <= known_df['nChords'][0]\n",
    "close_n_ix = [i for i, x in enumerate(close_n) if x]\n",
    "\n",
    "close_df = sameDiff_df.loc[close_n_ix]\n",
    "close_df.reset_index(drop=True, inplace=True)\n",
    "# close_df\n",
    "\n",
    "# # get a list of songs with higher n unique chords\n",
    "# far_n    = sameDiff_df['nChords'] > known_df['nChords'][0]\n",
    "# far_n_ix = [i for i, x in enumerate(far_n) if x]\n",
    "\n",
    "# far_df = sameDiff_df.loc[far_n_ix]\n",
    "# far_df.reset_index(drop=True, inplace=True)"
   ]
  },
  {
   "cell_type": "code",
   "execution_count": 345,
   "metadata": {},
   "outputs": [],
   "source": [
    "# far_df.dropna(axis=0, how='any', inplace=True)\n",
    "# far_df\n",
    "\n",
    "if known_df['Song'][0] in close_df['Song'].tolist():\n",
    "    k_ix = close_df['Song'].tolist().index(known_df['Song'][0].replace(' ', '-').lower())\n",
    "\n",
    "# print(k_ix)\n",
    "# close_df\n",
    "close_df.drop(k_ix, axis=0, inplace=True)\n",
    "close_df.reset_index(drop=True, inplace=True)"
   ]
  },
  {
   "cell_type": "code",
   "execution_count": 310,
   "metadata": {},
   "outputs": [
    {
     "name": "stdout",
     "output_type": "stream",
     "text": [
      "Artist          stevie-nicks\n",
      "Chords                Em,D,C\n",
      "Label                   None\n",
      "Song       edge-of-seventeen\n",
      "isAdv                      0\n",
      "nChords                    2\n",
      "Name: 16, dtype: object\n",
      "Artist                 jimi-hendrix\n",
      "Chords                     Bb,Cm,Ab\n",
      "Label                          None\n",
      "Song       all-along-the-watchtower\n",
      "isAdv                             0\n",
      "nChords                           2\n",
      "Name: 1, dtype: object\n"
     ]
    }
   ],
   "source": [
    "\n",
    "known_chords_list = known_df['Chords'][0].split(',')\n",
    "\n",
    "close_nSameChords = []\n",
    "close_propSameChords = []\n",
    "\n",
    "far_nSameChords = []\n",
    "far_propSameChords = []\n",
    "\n",
    "for iSong in range(0, len(close_df)):\n",
    "#     if isinstance(close_df['Chords'][iSong], str):\n",
    "    close_nSameChords.append( len([ele for ele in known_chords_list if(ele in close_df['Chords'][iSong].split(','))]) )\n",
    "    close_propSameChords.append( len([ele for ele in known_chords_list if(ele in close_df['Chords'][iSong].split(','))]) / len(close_df['Chords'][iSong].split(','))  )\n",
    "#     else:\n",
    "#         nSameChords.append(0)\n",
    "#         propSameChords.append(0)\n",
    "\n",
    "# for iSong in range(0, len(far_df)):\n",
    "# #     if isinstance(close_df['Chords'][iSong], str):\n",
    "#     far_nSameChords.append( len([ele for ele in known_chords_list if(ele in far_df['Chords'][iSong].split(','))]) )\n",
    "#     far_propSameChords.append( len([ele for ele in known_chords_list if(ele in far_df['Chords'][iSong].split(','))]) / len(far_df['Chords'][iSong].split(','))  )\n",
    "# #     else:\n",
    "# #         nSameChords.append(0)\n",
    "# #         propSameChords.append(0)\n",
    "        \n",
    "maxOverlap = np.argmax(close_propSameChords)\n",
    "minOverlap = np.argmin(close_propSameChords)\n",
    "\n",
    "# far_maxOverlap = np.argmax(far_propSameChords)\n",
    "# far_minOverlap = np.argmin(far_propSameChords)\n",
    "\n",
    "\n",
    "easy_rec   = close_df.iloc[maxOverlap]\n",
    "medium_rec = close_df.iloc[minOverlap]\n",
    "# hard_rec   = far_df.iloc[far_maxOverlap]\n",
    "# wayhard_rec   = far_df.iloc[far_minOverlap]\n",
    "\n",
    "print(easy_rec)\n",
    "print(medium_rec)\n",
    "# print(hard_rec)\n",
    "# print(wayhard_rec)\n",
    "\n"
   ]
  },
  {
   "cell_type": "code",
   "execution_count": 309,
   "metadata": {},
   "outputs": [
    {
     "data": {
      "text/html": [
       "<div>\n",
       "<style scoped>\n",
       "    .dataframe tbody tr th:only-of-type {\n",
       "        vertical-align: middle;\n",
       "    }\n",
       "\n",
       "    .dataframe tbody tr th {\n",
       "        vertical-align: top;\n",
       "    }\n",
       "\n",
       "    .dataframe thead th {\n",
       "        text-align: right;\n",
       "    }\n",
       "</style>\n",
       "<table border=\"1\" class=\"dataframe\">\n",
       "  <thead>\n",
       "    <tr style=\"text-align: right;\">\n",
       "      <th></th>\n",
       "      <th>Artist</th>\n",
       "      <th>Chords</th>\n",
       "      <th>Label</th>\n",
       "      <th>Song</th>\n",
       "      <th>isAdv</th>\n",
       "      <th>nChords</th>\n",
       "    </tr>\n",
       "  </thead>\n",
       "  <tbody>\n",
       "    <tr>\n",
       "      <th>16</th>\n",
       "      <td>stevie-nicks</td>\n",
       "      <td>Em,D,C</td>\n",
       "      <td>None</td>\n",
       "      <td>edge-of-seventeen</td>\n",
       "      <td>0</td>\n",
       "      <td>2</td>\n",
       "    </tr>\n",
       "  </tbody>\n",
       "</table>\n",
       "</div>"
      ],
      "text/plain": [
       "          Artist  Chords Label               Song isAdv nChords\n",
       "16  stevie-nicks  Em,D,C  None  edge-of-seventeen     0       2"
      ]
     },
     "execution_count": 309,
     "metadata": {},
     "output_type": "execute_result"
    }
   ],
   "source": [
    "easy_rec=pd.DataFrame(easy_rec).transpose()\n",
    "easy_rec"
   ]
  },
  {
   "cell_type": "code",
   "execution_count": null,
   "metadata": {},
   "outputs": [],
   "source": [
    "# # DO SAME FOR AN ADVANCED SONG\n",
    "# # get index of playlist songs in same class\n",
    "# isAdvList = input_df['isAdv'].tolist()\n",
    "# targDifficulty = 1\n",
    "\n",
    "# if targDifficulty is 1:\n",
    "#     sameDiff = [i for i, x in enumerate(isAdvList) if x]\n",
    "# else:\n",
    "#     sameDiff = [i for i, x in enumerate(isAdvList) if not x]\n",
    "\n",
    "# # narrow to only sameDiff songs\n",
    "# sameDiff_df = input_df.loc[sameDiff]\n",
    "\n",
    "# # get a list of songs with the same or few n unique chords\n",
    "# close_n    = sameDiff_df['nChords'] <= known_df['nChords'][0]\n",
    "# close_n_ix = [i for i, x in enumerate(close_n) if x]\n",
    "\n",
    "# close_df = sameDiff_df.loc[close_n_ix]\n",
    "# close_df.reset_index(drop=True, inplace=True)\n",
    "\n",
    "# # close_df = input_df.reindex[close_n_ix]\n",
    "\n",
    "# close_df.reset_index(drop=True, inplace=True)\n",
    "\n",
    "# known_chords_list = known_df['Chords'][0].split(',')\n",
    "\n",
    "# nSameChords = []\n",
    "# propSameChords = []\n",
    "# cnt = 1\n",
    "\n",
    "# for iSong in range(0, len(close_df)):\n",
    "#     if isinstance(close_df['Chords'][iSong], str):\n",
    "#         nSameChords.append( len([ele for ele in known_chords_list if(ele in close_df['Chords'][iSong].split(','))]) )\n",
    "#         propSameChords.append( len([ele for ele in known_chords_list if(ele in close_df['Chords'][iSong].split(','))]) / len(close_df['Chords'][iSong].split(','))  )\n",
    "#     else:\n",
    "#         nSameChords.append(0)\n",
    "#         propSameChords.append(0)\n",
    "        \n",
    "# maxOverlap = np.argmax(propSameChords)\n",
    "\n",
    "# hard_rec = close_df.iloc[12]\n",
    "# print(hard_rec)"
   ]
  },
  {
   "cell_type": "code",
   "execution_count": 283,
   "metadata": {},
   "outputs": [
    {
     "data": {
      "text/plain": [
       "'Am,Em,D,C,G'"
      ]
     },
     "execution_count": 283,
     "metadata": {},
     "output_type": "execute_result"
    }
   ],
   "source": [
    "known_df['Chords'][0]"
   ]
  },
  {
   "cell_type": "code",
   "execution_count": 308,
   "metadata": {},
   "outputs": [
    {
     "ename": "KeyError",
     "evalue": "'Song'",
     "output_type": "error",
     "traceback": [
      "\u001b[0;31m---------------------------------------------------------------------------\u001b[0m",
      "\u001b[0;31mKeyError\u001b[0m                                  Traceback (most recent call last)",
      "\u001b[0;32m//anaconda3/lib/python3.7/site-packages/pandas/core/indexes/base.py\u001b[0m in \u001b[0;36mget_loc\u001b[0;34m(self, key, method, tolerance)\u001b[0m\n\u001b[1;32m   2656\u001b[0m             \u001b[0;32mtry\u001b[0m\u001b[0;34m:\u001b[0m\u001b[0;34m\u001b[0m\u001b[0;34m\u001b[0m\u001b[0m\n\u001b[0;32m-> 2657\u001b[0;31m                 \u001b[0;32mreturn\u001b[0m \u001b[0mself\u001b[0m\u001b[0;34m.\u001b[0m\u001b[0m_engine\u001b[0m\u001b[0;34m.\u001b[0m\u001b[0mget_loc\u001b[0m\u001b[0;34m(\u001b[0m\u001b[0mkey\u001b[0m\u001b[0;34m)\u001b[0m\u001b[0;34m\u001b[0m\u001b[0;34m\u001b[0m\u001b[0m\n\u001b[0m\u001b[1;32m   2658\u001b[0m             \u001b[0;32mexcept\u001b[0m \u001b[0mKeyError\u001b[0m\u001b[0;34m:\u001b[0m\u001b[0;34m\u001b[0m\u001b[0;34m\u001b[0m\u001b[0m\n",
      "\u001b[0;32mpandas/_libs/index.pyx\u001b[0m in \u001b[0;36mpandas._libs.index.IndexEngine.get_loc\u001b[0;34m()\u001b[0m\n",
      "\u001b[0;32mpandas/_libs/index.pyx\u001b[0m in \u001b[0;36mpandas._libs.index.IndexEngine.get_loc\u001b[0;34m()\u001b[0m\n",
      "\u001b[0;32mpandas/_libs/index_class_helper.pxi\u001b[0m in \u001b[0;36mpandas._libs.index.Int64Engine._check_type\u001b[0;34m()\u001b[0m\n",
      "\u001b[0;31mKeyError\u001b[0m: 'Song'",
      "\nDuring handling of the above exception, another exception occurred:\n",
      "\u001b[0;31mKeyError\u001b[0m                                  Traceback (most recent call last)",
      "\u001b[0;32m<ipython-input-308-4b5bc66d17d5>\u001b[0m in \u001b[0;36m<module>\u001b[0;34m\u001b[0m\n\u001b[0;32m----> 1\u001b[0;31m \u001b[0measy_rec\u001b[0m\u001b[0;34m[\u001b[0m\u001b[0;34m'Song'\u001b[0m\u001b[0;34m]\u001b[0m\u001b[0;34m.\u001b[0m\u001b[0mreplace\u001b[0m\u001b[0;34m(\u001b[0m\u001b[0;34m'-'\u001b[0m\u001b[0;34m,\u001b[0m \u001b[0;34m' '\u001b[0m\u001b[0;34m)\u001b[0m\u001b[0;34m.\u001b[0m\u001b[0mtitle\u001b[0m\u001b[0;34m(\u001b[0m\u001b[0;34m)\u001b[0m\u001b[0;34m\u001b[0m\u001b[0;34m\u001b[0m\u001b[0m\n\u001b[0m",
      "\u001b[0;32m//anaconda3/lib/python3.7/site-packages/pandas/core/frame.py\u001b[0m in \u001b[0;36m__getitem__\u001b[0;34m(self, key)\u001b[0m\n\u001b[1;32m   2925\u001b[0m             \u001b[0;32mif\u001b[0m \u001b[0mself\u001b[0m\u001b[0;34m.\u001b[0m\u001b[0mcolumns\u001b[0m\u001b[0;34m.\u001b[0m\u001b[0mnlevels\u001b[0m \u001b[0;34m>\u001b[0m \u001b[0;36m1\u001b[0m\u001b[0;34m:\u001b[0m\u001b[0;34m\u001b[0m\u001b[0;34m\u001b[0m\u001b[0m\n\u001b[1;32m   2926\u001b[0m                 \u001b[0;32mreturn\u001b[0m \u001b[0mself\u001b[0m\u001b[0;34m.\u001b[0m\u001b[0m_getitem_multilevel\u001b[0m\u001b[0;34m(\u001b[0m\u001b[0mkey\u001b[0m\u001b[0;34m)\u001b[0m\u001b[0;34m\u001b[0m\u001b[0;34m\u001b[0m\u001b[0m\n\u001b[0;32m-> 2927\u001b[0;31m             \u001b[0mindexer\u001b[0m \u001b[0;34m=\u001b[0m \u001b[0mself\u001b[0m\u001b[0;34m.\u001b[0m\u001b[0mcolumns\u001b[0m\u001b[0;34m.\u001b[0m\u001b[0mget_loc\u001b[0m\u001b[0;34m(\u001b[0m\u001b[0mkey\u001b[0m\u001b[0;34m)\u001b[0m\u001b[0;34m\u001b[0m\u001b[0;34m\u001b[0m\u001b[0m\n\u001b[0m\u001b[1;32m   2928\u001b[0m             \u001b[0;32mif\u001b[0m \u001b[0mis_integer\u001b[0m\u001b[0;34m(\u001b[0m\u001b[0mindexer\u001b[0m\u001b[0;34m)\u001b[0m\u001b[0;34m:\u001b[0m\u001b[0;34m\u001b[0m\u001b[0;34m\u001b[0m\u001b[0m\n\u001b[1;32m   2929\u001b[0m                 \u001b[0mindexer\u001b[0m \u001b[0;34m=\u001b[0m \u001b[0;34m[\u001b[0m\u001b[0mindexer\u001b[0m\u001b[0;34m]\u001b[0m\u001b[0;34m\u001b[0m\u001b[0;34m\u001b[0m\u001b[0m\n",
      "\u001b[0;32m//anaconda3/lib/python3.7/site-packages/pandas/core/indexes/base.py\u001b[0m in \u001b[0;36mget_loc\u001b[0;34m(self, key, method, tolerance)\u001b[0m\n\u001b[1;32m   2657\u001b[0m                 \u001b[0;32mreturn\u001b[0m \u001b[0mself\u001b[0m\u001b[0;34m.\u001b[0m\u001b[0m_engine\u001b[0m\u001b[0;34m.\u001b[0m\u001b[0mget_loc\u001b[0m\u001b[0;34m(\u001b[0m\u001b[0mkey\u001b[0m\u001b[0;34m)\u001b[0m\u001b[0;34m\u001b[0m\u001b[0;34m\u001b[0m\u001b[0m\n\u001b[1;32m   2658\u001b[0m             \u001b[0;32mexcept\u001b[0m \u001b[0mKeyError\u001b[0m\u001b[0;34m:\u001b[0m\u001b[0;34m\u001b[0m\u001b[0;34m\u001b[0m\u001b[0m\n\u001b[0;32m-> 2659\u001b[0;31m                 \u001b[0;32mreturn\u001b[0m \u001b[0mself\u001b[0m\u001b[0;34m.\u001b[0m\u001b[0m_engine\u001b[0m\u001b[0;34m.\u001b[0m\u001b[0mget_loc\u001b[0m\u001b[0;34m(\u001b[0m\u001b[0mself\u001b[0m\u001b[0;34m.\u001b[0m\u001b[0m_maybe_cast_indexer\u001b[0m\u001b[0;34m(\u001b[0m\u001b[0mkey\u001b[0m\u001b[0;34m)\u001b[0m\u001b[0;34m)\u001b[0m\u001b[0;34m\u001b[0m\u001b[0;34m\u001b[0m\u001b[0m\n\u001b[0m\u001b[1;32m   2660\u001b[0m         \u001b[0mindexer\u001b[0m \u001b[0;34m=\u001b[0m \u001b[0mself\u001b[0m\u001b[0;34m.\u001b[0m\u001b[0mget_indexer\u001b[0m\u001b[0;34m(\u001b[0m\u001b[0;34m[\u001b[0m\u001b[0mkey\u001b[0m\u001b[0;34m]\u001b[0m\u001b[0;34m,\u001b[0m \u001b[0mmethod\u001b[0m\u001b[0;34m=\u001b[0m\u001b[0mmethod\u001b[0m\u001b[0;34m,\u001b[0m \u001b[0mtolerance\u001b[0m\u001b[0;34m=\u001b[0m\u001b[0mtolerance\u001b[0m\u001b[0;34m)\u001b[0m\u001b[0;34m\u001b[0m\u001b[0;34m\u001b[0m\u001b[0m\n\u001b[1;32m   2661\u001b[0m         \u001b[0;32mif\u001b[0m \u001b[0mindexer\u001b[0m\u001b[0;34m.\u001b[0m\u001b[0mndim\u001b[0m \u001b[0;34m>\u001b[0m \u001b[0;36m1\u001b[0m \u001b[0;32mor\u001b[0m \u001b[0mindexer\u001b[0m\u001b[0;34m.\u001b[0m\u001b[0msize\u001b[0m \u001b[0;34m>\u001b[0m \u001b[0;36m1\u001b[0m\u001b[0;34m:\u001b[0m\u001b[0;34m\u001b[0m\u001b[0;34m\u001b[0m\u001b[0m\n",
      "\u001b[0;32mpandas/_libs/index.pyx\u001b[0m in \u001b[0;36mpandas._libs.index.IndexEngine.get_loc\u001b[0;34m()\u001b[0m\n",
      "\u001b[0;32mpandas/_libs/index.pyx\u001b[0m in \u001b[0;36mpandas._libs.index.IndexEngine.get_loc\u001b[0;34m()\u001b[0m\n",
      "\u001b[0;32mpandas/_libs/index_class_helper.pxi\u001b[0m in \u001b[0;36mpandas._libs.index.Int64Engine._check_type\u001b[0;34m()\u001b[0m\n",
      "\u001b[0;31mKeyError\u001b[0m: 'Song'"
     ]
    }
   ],
   "source": [
    "easy_rec['Song'].replace('-', ' ').title()"
   ]
  },
  {
   "cell_type": "code",
   "execution_count": 312,
   "metadata": {},
   "outputs": [
    {
     "data": {
      "text/plain": [
       "'Stevie Nicks'"
      ]
     },
     "execution_count": 312,
     "metadata": {},
     "output_type": "execute_result"
    }
   ],
   "source": [
    "easy_rec['Artist'].replace('-', ' ').title()"
   ]
  },
  {
   "cell_type": "code",
   "execution_count": 311,
   "metadata": {},
   "outputs": [
    {
     "data": {
      "text/plain": [
       "'All Along The Watchtower'"
      ]
     },
     "execution_count": 311,
     "metadata": {},
     "output_type": "execute_result"
    }
   ],
   "source": [
    "medium_rec['Song'].replace('-', ' ').title()"
   ]
  },
  {
   "cell_type": "code",
   "execution_count": 288,
   "metadata": {},
   "outputs": [
    {
     "data": {
      "text/plain": [
       "'Jimi Hendrix'"
      ]
     },
     "execution_count": 288,
     "metadata": {},
     "output_type": "execute_result"
    }
   ],
   "source": [
    "medium_rec['Artist'].replace('-', ' ').title()"
   ]
  },
  {
   "cell_type": "code",
   "execution_count": 289,
   "metadata": {},
   "outputs": [
    {
     "data": {
      "text/plain": [
       "'Bb,Cm,Ab'"
      ]
     },
     "execution_count": 289,
     "metadata": {},
     "output_type": "execute_result"
    }
   ],
   "source": [
    "medium_rec['Chords']"
   ]
  },
  {
   "cell_type": "code",
   "execution_count": null,
   "metadata": {},
   "outputs": [],
   "source": []
  }
 ],
 "metadata": {
  "kernelspec": {
   "display_name": "Python 3",
   "language": "python",
   "name": "python3"
  },
  "language_info": {
   "codemirror_mode": {
    "name": "ipython",
    "version": 3
   },
   "file_extension": ".py",
   "mimetype": "text/x-python",
   "name": "python",
   "nbconvert_exporter": "python",
   "pygments_lexer": "ipython3",
   "version": "3.7.3"
  }
 },
 "nbformat": 4,
 "nbformat_minor": 2
}
