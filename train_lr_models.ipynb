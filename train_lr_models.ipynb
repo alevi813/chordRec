{
 "cells": [
  {
   "cell_type": "code",
   "execution_count": 43,
   "metadata": {},
   "outputs": [],
   "source": [
    "import sqlite3\n",
    "import numpy as np\n",
    "import pandas as pd\n",
    "import seaborn as sns"
   ]
  },
  {
   "cell_type": "code",
   "execution_count": 44,
   "metadata": {},
   "outputs": [],
   "source": [
    "from sklearn.model_selection import train_test_split\n",
    "from sklearn.linear_model import LogisticRegression\n",
    "\n",
    "from sklearn.preprocessing import StandardScaler\n",
    "\n",
    "from sklearn.metrics import classification_report, confusion_matrix\n"
   ]
  },
  {
   "cell_type": "code",
   "execution_count": 50,
   "metadata": {},
   "outputs": [],
   "source": [
    "conn = sqlite3.connect('/Users/aaronlevi/Documents/sql_db/pick-a-tune.db')\n",
    "# conn = sqlite3.connect('/Users/aaronlevi/Documents/sql_db/chords_list.db')\n",
    "cur = conn.cursor()\n",
    "\n",
    "# cur.close()\n",
    "# conn.close()"
   ]
  },
  {
   "cell_type": "code",
   "execution_count": 65,
   "metadata": {},
   "outputs": [],
   "source": [
    "allFeatures = pd.read_sql_query(\"SELECT * FROM features\", conn)\n",
    "labels = pd.read_sql_query(\"SELECT label FROM basic_info\", conn)\n",
    "\n",
    "# allFeatures = allFeatures.reset_index(drop=True)\n",
    "# allFeatures.drop('index', axis=1, inplace=True)\n",
    "\n",
    "# labels = labels.reset_index(drop=True)\n",
    "\n",
    "allFeatures = allFeatures.iloc[57:1329].reset_index(drop=True)\n",
    "allFeatures.drop('index', axis=1, inplace=True)\n",
    "\n",
    "labels = labels.iloc[57:1329].reset_index(drop=True)"
   ]
  },
  {
   "cell_type": "code",
   "execution_count": 66,
   "metadata": {},
   "outputs": [
    {
     "data": {
      "text/html": [
       "<div>\n",
       "<style scoped>\n",
       "    .dataframe tbody tr th:only-of-type {\n",
       "        vertical-align: middle;\n",
       "    }\n",
       "\n",
       "    .dataframe tbody tr th {\n",
       "        vertical-align: top;\n",
       "    }\n",
       "\n",
       "    .dataframe thead th {\n",
       "        text-align: right;\n",
       "    }\n",
       "</style>\n",
       "<table border=\"1\" class=\"dataframe\">\n",
       "  <thead>\n",
       "    <tr style=\"text-align: right;\">\n",
       "      <th></th>\n",
       "      <th>Label_advanced</th>\n",
       "      <th>Label_intermediate</th>\n",
       "      <th>Label_novice</th>\n",
       "    </tr>\n",
       "  </thead>\n",
       "  <tbody>\n",
       "    <tr>\n",
       "      <th>0</th>\n",
       "      <td>1</td>\n",
       "      <td>0</td>\n",
       "      <td>0</td>\n",
       "    </tr>\n",
       "    <tr>\n",
       "      <th>1</th>\n",
       "      <td>0</td>\n",
       "      <td>1</td>\n",
       "      <td>0</td>\n",
       "    </tr>\n",
       "    <tr>\n",
       "      <th>2</th>\n",
       "      <td>0</td>\n",
       "      <td>0</td>\n",
       "      <td>1</td>\n",
       "    </tr>\n",
       "    <tr>\n",
       "      <th>3</th>\n",
       "      <td>1</td>\n",
       "      <td>0</td>\n",
       "      <td>0</td>\n",
       "    </tr>\n",
       "    <tr>\n",
       "      <th>4</th>\n",
       "      <td>0</td>\n",
       "      <td>0</td>\n",
       "      <td>1</td>\n",
       "    </tr>\n",
       "  </tbody>\n",
       "</table>\n",
       "</div>"
      ],
      "text/plain": [
       "   Label_advanced  Label_intermediate  Label_novice\n",
       "0               1                   0             0\n",
       "1               0                   1             0\n",
       "2               0                   0             1\n",
       "3               1                   0             0\n",
       "4               0                   0             1"
      ]
     },
     "execution_count": 66,
     "metadata": {},
     "output_type": "execute_result"
    }
   ],
   "source": [
    "dummyLabel=pd.get_dummies(labels)\n",
    "dummyLabel.head()"
   ]
  },
  {
   "cell_type": "code",
   "execution_count": 67,
   "metadata": {},
   "outputs": [
    {
     "data": {
      "text/html": [
       "<div>\n",
       "<style scoped>\n",
       "    .dataframe tbody tr th:only-of-type {\n",
       "        vertical-align: middle;\n",
       "    }\n",
       "\n",
       "    .dataframe tbody tr th {\n",
       "        vertical-align: top;\n",
       "    }\n",
       "\n",
       "    .dataframe thead th {\n",
       "        text-align: right;\n",
       "    }\n",
       "</style>\n",
       "<table border=\"1\" class=\"dataframe\">\n",
       "  <thead>\n",
       "    <tr style=\"text-align: right;\">\n",
       "      <th></th>\n",
       "      <th>tempo</th>\n",
       "      <th>duration_m</th>\n",
       "      <th>time_signature</th>\n",
       "      <th>energy</th>\n",
       "      <th>n_unique_chords</th>\n",
       "      <th>n_difficult_chords</th>\n",
       "      <th>chord_per_min</th>\n",
       "      <th>Label_advanced</th>\n",
       "    </tr>\n",
       "  </thead>\n",
       "  <tbody>\n",
       "    <tr>\n",
       "      <th>0</th>\n",
       "      <td>123.015</td>\n",
       "      <td>1.786167</td>\n",
       "      <td>4.0</td>\n",
       "      <td>0.245</td>\n",
       "      <td>15</td>\n",
       "      <td>14</td>\n",
       "      <td>23.514043</td>\n",
       "      <td>1</td>\n",
       "    </tr>\n",
       "    <tr>\n",
       "      <th>1</th>\n",
       "      <td>92.640</td>\n",
       "      <td>3.737333</td>\n",
       "      <td>4.0</td>\n",
       "      <td>0.139</td>\n",
       "      <td>12</td>\n",
       "      <td>0</td>\n",
       "      <td>21.673207</td>\n",
       "      <td>0</td>\n",
       "    </tr>\n",
       "    <tr>\n",
       "      <th>2</th>\n",
       "      <td>131.712</td>\n",
       "      <td>12.112833</td>\n",
       "      <td>4.0</td>\n",
       "      <td>0.260</td>\n",
       "      <td>8</td>\n",
       "      <td>4</td>\n",
       "      <td>18.823011</td>\n",
       "      <td>0</td>\n",
       "    </tr>\n",
       "    <tr>\n",
       "      <th>3</th>\n",
       "      <td>129.937</td>\n",
       "      <td>4.476100</td>\n",
       "      <td>4.0</td>\n",
       "      <td>0.364</td>\n",
       "      <td>14</td>\n",
       "      <td>8</td>\n",
       "      <td>21.447242</td>\n",
       "      <td>1</td>\n",
       "    </tr>\n",
       "    <tr>\n",
       "      <th>4</th>\n",
       "      <td>83.720</td>\n",
       "      <td>2.723117</td>\n",
       "      <td>4.0</td>\n",
       "      <td>0.307</td>\n",
       "      <td>13</td>\n",
       "      <td>4</td>\n",
       "      <td>23.135256</td>\n",
       "      <td>0</td>\n",
       "    </tr>\n",
       "  </tbody>\n",
       "</table>\n",
       "</div>"
      ],
      "text/plain": [
       "     tempo  duration_m  time_signature  energy  n_unique_chords  \\\n",
       "0  123.015    1.786167             4.0   0.245               15   \n",
       "1   92.640    3.737333             4.0   0.139               12   \n",
       "2  131.712   12.112833             4.0   0.260                8   \n",
       "3  129.937    4.476100             4.0   0.364               14   \n",
       "4   83.720    2.723117             4.0   0.307               13   \n",
       "\n",
       "   n_difficult_chords  chord_per_min  Label_advanced  \n",
       "0                  14      23.514043               1  \n",
       "1                   0      21.673207               0  \n",
       "2                   4      18.823011               0  \n",
       "3                   8      21.447242               1  \n",
       "4                   4      23.135256               0  "
      ]
     },
     "execution_count": 67,
     "metadata": {},
     "output_type": "execute_result"
    }
   ],
   "source": [
    "# making a few df's for ease of plotting... kinda clunky\n",
    "featuresWithLabels = pd.concat([allFeatures, dummyLabel], axis=1, sort=False)\n",
    "featuresWithLabels.dropna(axis=0, how='any', inplace=True)\n",
    "\n",
    "featuresNovice = pd.concat([allFeatures, dummyLabel['Label_novice']], axis=1, sort=False)\n",
    "featuresNovice.dropna(axis=0, how='any', inplace=True)\n",
    "\n",
    "featuresAdv = pd.concat([allFeatures, dummyLabel['Label_advanced']], axis=1, sort=False)\n",
    "featuresAdv.dropna(axis=0, how='any', inplace=True)\n",
    "featuresAdv.head()"
   ]
  },
  {
   "cell_type": "code",
   "execution_count": 68,
   "metadata": {},
   "outputs": [
    {
     "data": {
      "text/plain": [
       "2"
      ]
     },
     "execution_count": 68,
     "metadata": {},
     "output_type": "execute_result"
    }
   ],
   "source": [
    "small_adv = featuresAdv[featuresAdv['Label_advanced']==1]['n_unique_chords']<=3 \n",
    "small_adv_ix = [i for i, x in enumerate(small_adv) if x]\n",
    "sum(small_adv)"
   ]
  },
  {
   "cell_type": "code",
   "execution_count": 69,
   "metadata": {},
   "outputs": [],
   "source": [
    "# advanced label\n",
    "X = featuresAdv.drop(featuresAdv.index[small_adv_ix])\n",
    "X.dropna(axis=0, how='any', inplace=True)\n",
    "X.reset_index(drop=True)\n",
    "\n",
    "y = X['Label_advanced']\n",
    "X.drop('Label_advanced', axis=1, inplace=True)"
   ]
  },
  {
   "cell_type": "code",
   "execution_count": 70,
   "metadata": {},
   "outputs": [],
   "source": [
    "def balanced_subsample(x,y,subsample_size=1.0):\n",
    "\n",
    "    class_xs = []\n",
    "    min_elems = None\n",
    "\n",
    "    for yi in np.unique(y):\n",
    "        elems = x[(y == yi)]\n",
    "        class_xs.append((yi, elems))\n",
    "        if min_elems == None or elems.shape[0] < min_elems:\n",
    "            min_elems = elems.shape[0]\n",
    "\n",
    "    use_elems = min_elems\n",
    "    if subsample_size < 1:\n",
    "        use_elems = int(min_elems*subsample_size)\n",
    "\n",
    "    xs = []\n",
    "    ys = []\n",
    "\n",
    "    for ci,this_xs in class_xs:\n",
    "        if len(this_xs) > use_elems:\n",
    "#             np.random.shuffle(this_xs)\n",
    "            this_xs = this_xs.reindex(np.random.permutation(this_xs.index))\n",
    "\n",
    "\n",
    "        x_ = this_xs[:use_elems]\n",
    "        y_ = np.empty(use_elems)\n",
    "        y_.fill(ci)\n",
    "\n",
    "        xs.append(x_)\n",
    "        ys.append(y_)\n",
    "\n",
    "#     xs = np.concatenate(xs)\n",
    "#     ys = np.concatenate(ys)\n",
    "    xs = pd.concat(xs)\n",
    "    ys = pd.Series(data=np.concatenate(ys),name='target')\n",
    "\n",
    "    return xs,ys"
   ]
  },
  {
   "cell_type": "code",
   "execution_count": 71,
   "metadata": {},
   "outputs": [
    {
     "data": {
      "text/plain": [
       "0.5"
      ]
     },
     "execution_count": 71,
     "metadata": {},
     "output_type": "execute_result"
    }
   ],
   "source": [
    "Xs, ys = balanced_subsample(X,y)\n",
    "sum(ys) / len(ys)"
   ]
  },
  {
   "cell_type": "code",
   "execution_count": 72,
   "metadata": {},
   "outputs": [
    {
     "data": {
      "text/plain": [
       "LogisticRegression()"
      ]
     },
     "execution_count": 72,
     "metadata": {},
     "output_type": "execute_result"
    }
   ],
   "source": [
    "scaler = StandardScaler()\n",
    "scaler.fit(Xs)\n",
    "X_scale = scaler.transform(Xs)\n",
    "\n",
    "X_train, X_test, y_train, y_test = train_test_split(X_scale, ys, test_size=0.2, random_state=10)\n",
    "\n",
    "lr_model_adv = LogisticRegression()\n",
    "lr_model_adv.fit(X_train, y_train) "
   ]
  },
  {
   "cell_type": "code",
   "execution_count": 73,
   "metadata": {},
   "outputs": [
    {
     "name": "stdout",
     "output_type": "stream",
     "text": [
      "[[87  8]\n",
      " [23 63]]\n",
      "              precision    recall  f1-score   support\n",
      "\n",
      "         0.0       0.79      0.92      0.85        95\n",
      "         1.0       0.89      0.73      0.80        86\n",
      "\n",
      "    accuracy                           0.83       181\n",
      "   macro avg       0.84      0.82      0.83       181\n",
      "weighted avg       0.84      0.83      0.83       181\n",
      "\n"
     ]
    }
   ],
   "source": [
    "adv_predictions = lr_model_adv.predict(X_test)\n",
    "adv_true = y_test\n",
    "\n",
    "print(confusion_matrix(y_test, adv_predictions))\n",
    "print(classification_report(y_test, adv_predictions))"
   ]
  },
  {
   "cell_type": "code",
   "execution_count": 74,
   "metadata": {},
   "outputs": [
    {
     "data": {
      "text/html": [
       "<div>\n",
       "<style scoped>\n",
       "    .dataframe tbody tr th:only-of-type {\n",
       "        vertical-align: middle;\n",
       "    }\n",
       "\n",
       "    .dataframe tbody tr th {\n",
       "        vertical-align: top;\n",
       "    }\n",
       "\n",
       "    .dataframe thead th {\n",
       "        text-align: right;\n",
       "    }\n",
       "</style>\n",
       "<table border=\"1\" class=\"dataframe\">\n",
       "  <thead>\n",
       "    <tr style=\"text-align: right;\">\n",
       "      <th></th>\n",
       "      <th>tempo</th>\n",
       "      <th>duration_m</th>\n",
       "      <th>time_signature</th>\n",
       "      <th>energy</th>\n",
       "      <th>n_unique_chords</th>\n",
       "      <th>n_difficult_chords</th>\n",
       "      <th>chord_per_min</th>\n",
       "    </tr>\n",
       "  </thead>\n",
       "  <tbody>\n",
       "    <tr>\n",
       "      <th>0</th>\n",
       "      <td>0.02886</td>\n",
       "      <td>0.200514</td>\n",
       "      <td>-0.09744</td>\n",
       "      <td>0.130787</td>\n",
       "      <td>1.072434</td>\n",
       "      <td>1.761474</td>\n",
       "      <td>0.294124</td>\n",
       "    </tr>\n",
       "  </tbody>\n",
       "</table>\n",
       "</div>"
      ],
      "text/plain": [
       "     tempo  duration_m  time_signature    energy  n_unique_chords  \\\n",
       "0  0.02886    0.200514        -0.09744  0.130787         1.072434   \n",
       "\n",
       "   n_difficult_chords  chord_per_min  \n",
       "0            1.761474       0.294124  "
      ]
     },
     "execution_count": 74,
     "metadata": {},
     "output_type": "execute_result"
    }
   ],
   "source": [
    "pd.DataFrame(lr_model_adv.coef_, columns=X.columns)"
   ]
  },
  {
   "cell_type": "code",
   "execution_count": 75,
   "metadata": {},
   "outputs": [],
   "source": [
    "import pickle\n",
    "# save the model to disk\n",
    "filename = 'model_files/lr_adv_model_1004.sav'\n",
    "pickle.dump(lr_model_adv, open(filename, 'wb'))"
   ]
  },
  {
   "cell_type": "code",
   "execution_count": 79,
   "metadata": {},
   "outputs": [],
   "source": [
    "# novice label\n",
    "# X = featuresNovice.drop(featuresNovice.index[small_adv_ix])\n",
    "X = featuresNovice.drop(featuresAdv.index[small_adv_ix])\n",
    "X.reset_index(drop=True, inplace=True)\n",
    "\n",
    "X.dropna(axis=0, how='any', inplace=True)\n",
    "X.reset_index(drop=True, inplace=True)\n",
    "\n",
    "y = X['Label_novice']\n",
    "X.drop('Label_novice', axis=1, inplace=True)"
   ]
  },
  {
   "cell_type": "code",
   "execution_count": 82,
   "metadata": {},
   "outputs": [],
   "source": [
    "Xs, ys = balanced_subsample(X,y)\n",
    "\n",
    "scaler.fit(Xs)\n",
    "X_scale = scaler.transform(Xs)\n",
    "\n",
    "splitIx=y_test.index.tolist()\n",
    "X_train, X_test, y_train, y_test = train_test_split(X_scale, ys, test_size=0.2, random_state=101)\n",
    "\n",
    "lr_model_nov = LogisticRegression()\n",
    "lr_model_nov.fit(X_train, y_train) \n",
    "\n",
    "nov_predictions = lr_model_nov.predict(X_test)\n",
    "nov_true = y_test"
   ]
  },
  {
   "cell_type": "code",
   "execution_count": 83,
   "metadata": {},
   "outputs": [
    {
     "name": "stdout",
     "output_type": "stream",
     "text": [
      "[[56 27]\n",
      " [14 61]]\n",
      "              precision    recall  f1-score   support\n",
      "\n",
      "         0.0       0.80      0.67      0.73        83\n",
      "         1.0       0.69      0.81      0.75        75\n",
      "\n",
      "    accuracy                           0.74       158\n",
      "   macro avg       0.75      0.74      0.74       158\n",
      "weighted avg       0.75      0.74      0.74       158\n",
      "\n"
     ]
    }
   ],
   "source": [
    "print(confusion_matrix(y_test, nov_predictions))\n",
    "print(classification_report(y_test, nov_predictions))"
   ]
  },
  {
   "cell_type": "code",
   "execution_count": 84,
   "metadata": {},
   "outputs": [
    {
     "data": {
      "text/html": [
       "<div>\n",
       "<style scoped>\n",
       "    .dataframe tbody tr th:only-of-type {\n",
       "        vertical-align: middle;\n",
       "    }\n",
       "\n",
       "    .dataframe tbody tr th {\n",
       "        vertical-align: top;\n",
       "    }\n",
       "\n",
       "    .dataframe thead th {\n",
       "        text-align: right;\n",
       "    }\n",
       "</style>\n",
       "<table border=\"1\" class=\"dataframe\">\n",
       "  <thead>\n",
       "    <tr style=\"text-align: right;\">\n",
       "      <th></th>\n",
       "      <th>tempo</th>\n",
       "      <th>duration_m</th>\n",
       "      <th>time_signature</th>\n",
       "      <th>energy</th>\n",
       "      <th>n_unique_chords</th>\n",
       "      <th>n_difficult_chords</th>\n",
       "      <th>chord_per_min</th>\n",
       "    </tr>\n",
       "  </thead>\n",
       "  <tbody>\n",
       "    <tr>\n",
       "      <th>0</th>\n",
       "      <td>0.105185</td>\n",
       "      <td>-0.024694</td>\n",
       "      <td>0.100003</td>\n",
       "      <td>-0.217765</td>\n",
       "      <td>-1.427649</td>\n",
       "      <td>-0.796986</td>\n",
       "      <td>0.035308</td>\n",
       "    </tr>\n",
       "  </tbody>\n",
       "</table>\n",
       "</div>"
      ],
      "text/plain": [
       "      tempo  duration_m  time_signature    energy  n_unique_chords  \\\n",
       "0  0.105185   -0.024694        0.100003 -0.217765        -1.427649   \n",
       "\n",
       "   n_difficult_chords  chord_per_min  \n",
       "0           -0.796986       0.035308  "
      ]
     },
     "execution_count": 84,
     "metadata": {},
     "output_type": "execute_result"
    }
   ],
   "source": [
    "pd.DataFrame(lr_model_nov.coef_, columns=X.columns)"
   ]
  },
  {
   "cell_type": "code",
   "execution_count": 85,
   "metadata": {},
   "outputs": [],
   "source": [
    "import pickle\n",
    "# save the model to disk\n",
    "filename = 'model_files/lr_nov_model_1004.sav'\n",
    "pickle.dump(lr_model_nov, open(filename, 'wb'))"
   ]
  },
  {
   "cell_type": "code",
   "execution_count": null,
   "metadata": {},
   "outputs": [],
   "source": []
  }
 ],
 "metadata": {
  "kernelspec": {
   "display_name": "Python 3",
   "language": "python",
   "name": "python3"
  },
  "language_info": {
   "codemirror_mode": {
    "name": "ipython",
    "version": 3
   },
   "file_extension": ".py",
   "mimetype": "text/x-python",
   "name": "python",
   "nbconvert_exporter": "python",
   "pygments_lexer": "ipython3",
   "version": "3.7.3"
  }
 },
 "nbformat": 4,
 "nbformat_minor": 2
}
